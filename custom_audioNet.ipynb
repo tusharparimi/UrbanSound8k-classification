{
  "nbformat": 4,
  "nbformat_minor": 0,
  "metadata": {
    "colab": {
      "provenance": [],
      "machine_shape": "hm"
    },
    "kernelspec": {
      "name": "python3",
      "display_name": "Python 3"
    },
    "language_info": {
      "name": "python"
    },
    "accelerator": "TPU"
  },
  "cells": [
    {
      "cell_type": "code",
      "execution_count": null,
      "metadata": {
        "id": "315kvctgm7K5",
        "colab": {
          "base_uri": "https://localhost:8080/"
        },
        "outputId": "c5c1f64f-b1d6-4928-ac6e-5d83661473ca"
      },
      "outputs": [
        {
          "output_type": "stream",
          "name": "stdout",
          "text": [
            "Mounted at /content/drive/\n"
          ]
        }
      ],
      "source": [
        "#Extracting the zipfile in google drive\n",
        "#import zipfile\n",
        "from google.colab import drive\n",
        "\n",
        "drive.mount('/content/drive/')\n",
        "\n",
        "#zip_ref = zipfile.ZipFile(\"/content/drive/My Drive/audio.zip\", 'r')\n",
        "#zip_ref.extractall(\"/tmp\")\n",
        "#zip_ref.close()dd\n"
      ]
    },
    {
      "cell_type": "code",
      "source": [
        "import sys\n",
        "sys.path.insert(0, '/tmp/')\n",
        "sys.path.insert(0,'/content/drive/MyDrive/')\n",
        "from tensorflow import keras\n",
        "from tensorflow.keras import layers\n",
        "import numpy as np\n",
        "#from audio_classifier import AudioClassifier\n",
        "from tensorflow.keras.utils import to_categorical\n"
      ],
      "metadata": {
        "id": "qPGUgovKdQgh"
      },
      "execution_count": null,
      "outputs": []
    },
    {
      "cell_type": "code",
      "source": [
        "train=np.load(\"/content/drive/MyDrive/X_train.npz\")\n",
        "test=np.load(\"/content/drive/MyDrive/X_test.npz\")\n",
        "val=np.load(\"/content/drive/MyDrive/X_val.npz\")\n",
        "\n",
        "X_train=train['x']\n",
        "y_train=to_categorical(train['y'])\n",
        "X_test=test['x']\n",
        "y_test=to_categorical(test['y'])\n",
        "X_val=val['x']\n",
        "y_val=to_categorical(val['y'])"
      ],
      "metadata": {
        "id": "s6OXtFP6eKX7"
      },
      "execution_count": null,
      "outputs": []
    },
    {
      "cell_type": "code",
      "source": [
        "X_train.shape"
      ],
      "metadata": {
        "colab": {
          "base_uri": "https://localhost:8080/"
        },
        "id": "f1jzz93gePnK",
        "outputId": "31156904-0d72-41b0-c052-36c67dd154d2"
      },
      "execution_count": null,
      "outputs": [
        {
          "output_type": "execute_result",
          "data": {
            "text/plain": [
              "(5588, 64, 688, 2)"
            ]
          },
          "metadata": {},
          "execution_count": 4
        }
      ]
    },
    {
      "cell_type": "code",
      "source": [
        "y_train.shape"
      ],
      "metadata": {
        "colab": {
          "base_uri": "https://localhost:8080/"
        },
        "id": "FSqzaLSFeefi",
        "outputId": "c64895d6-00b1-4742-d847-e1208b4fb53b"
      },
      "execution_count": null,
      "outputs": [
        {
          "output_type": "execute_result",
          "data": {
            "text/plain": [
              "(5588, 10)"
            ]
          },
          "metadata": {},
          "execution_count": 5
        }
      ]
    },
    {
      "cell_type": "code",
      "source": [
        "X_val.shape"
      ],
      "metadata": {
        "colab": {
          "base_uri": "https://localhost:8080/"
        },
        "id": "KyvNcwSVeiuH",
        "outputId": "b715c057-e522-447f-f1ed-3acc3bfc7073"
      },
      "execution_count": null,
      "outputs": [
        {
          "output_type": "execute_result",
          "data": {
            "text/plain": [
              "(1397, 64, 688, 2)"
            ]
          },
          "metadata": {},
          "execution_count": 6
        }
      ]
    },
    {
      "cell_type": "code",
      "source": [
        "X_test.shape"
      ],
      "metadata": {
        "colab": {
          "base_uri": "https://localhost:8080/"
        },
        "id": "oEeL9P2pemc_",
        "outputId": "c7cd93f8-531d-42c9-fe2e-48f8af9f0727"
      },
      "execution_count": null,
      "outputs": [
        {
          "output_type": "execute_result",
          "data": {
            "text/plain": [
              "(1747, 64, 688, 2)"
            ]
          },
          "metadata": {},
          "execution_count": 7
        }
      ]
    },
    {
      "cell_type": "code",
      "source": [
        "from tensorflow import keras\n",
        "from tensorflow.keras import layers\n",
        "\n",
        "inputs=keras.Input(shape=(64,688,2))\n",
        "\n",
        "x = layers.Conv2D(filters=8, kernel_size=(3,3), activation=\"relu\")(inputs)\n",
        "x = layers.MaxPooling2D(pool_size=(2,2))(x)\n",
        "x = layers.Dropout(rate=0.3)(x)\n",
        "\n",
        "x = layers.Conv2D(filters=16, kernel_size=(3,3), activation=\"relu\")(x)\n",
        "x = layers.MaxPooling2D(pool_size=(2,2))(x)\n",
        "x = layers.Dropout(rate=0.3)(x)\n",
        "\n",
        "x = layers.Conv2D(filters=32, kernel_size=(3,3), activation=\"relu\")(x)\n",
        "x = layers.MaxPooling2D(pool_size=(2,2))(x)\n",
        "x = layers.Dropout(rate=0.3)(x)\n",
        "\n",
        "x = layers.Conv2D(filters=64, kernel_size=(3,3), activation=\"relu\")(x)\n",
        "x = layers.MaxPooling2D(pool_size=(2,2))(x)\n",
        "x = layers.Dropout(rate=0.3)(x)\n",
        "\n",
        "x = layers.Flatten()(x)\n",
        "\n",
        "x = layers.Dense(64, activation=\"relu\")(x)\n",
        "x = layers.Dropout(rate=0.3)(x)\n",
        "\n",
        "x = layers.Dense(32, activation=\"relu\")(x)\n",
        "\n",
        "x=layers.Dense(16, activation=\"relu\")(x)\n",
        "\n",
        "outputs = layers.Dense(10, activation=\"softmax\")(x)\n",
        "\n",
        "model = keras.Model(inputs=inputs, outputs=outputs)\n"
      ],
      "metadata": {
        "id": "OQxvxBiaewfR"
      },
      "execution_count": null,
      "outputs": []
    },
    {
      "cell_type": "code",
      "source": [
        "model.summary()"
      ],
      "metadata": {
        "colab": {
          "base_uri": "https://localhost:8080/"
        },
        "id": "SrPc2fPQkqcJ",
        "outputId": "6d133240-c3af-494c-c536-f41259b0ec57"
      },
      "execution_count": null,
      "outputs": [
        {
          "output_type": "stream",
          "name": "stdout",
          "text": [
            "Model: \"model_3\"\n",
            "_________________________________________________________________\n",
            " Layer (type)                Output Shape              Param #   \n",
            "=================================================================\n",
            " input_4 (InputLayer)        [(None, 64, 688, 2)]      0         \n",
            "                                                                 \n",
            " conv2d_12 (Conv2D)          (None, 62, 686, 8)        152       \n",
            "                                                                 \n",
            " max_pooling2d_12 (MaxPoolin  (None, 31, 343, 8)       0         \n",
            " g2D)                                                            \n",
            "                                                                 \n",
            " dropout_15 (Dropout)        (None, 31, 343, 8)        0         \n",
            "                                                                 \n",
            " conv2d_13 (Conv2D)          (None, 29, 341, 16)       1168      \n",
            "                                                                 \n",
            " max_pooling2d_13 (MaxPoolin  (None, 14, 170, 16)      0         \n",
            " g2D)                                                            \n",
            "                                                                 \n",
            " dropout_16 (Dropout)        (None, 14, 170, 16)       0         \n",
            "                                                                 \n",
            " conv2d_14 (Conv2D)          (None, 12, 168, 32)       4640      \n",
            "                                                                 \n",
            " max_pooling2d_14 (MaxPoolin  (None, 6, 84, 32)        0         \n",
            " g2D)                                                            \n",
            "                                                                 \n",
            " dropout_17 (Dropout)        (None, 6, 84, 32)         0         \n",
            "                                                                 \n",
            " conv2d_15 (Conv2D)          (None, 4, 82, 64)         18496     \n",
            "                                                                 \n",
            " max_pooling2d_15 (MaxPoolin  (None, 2, 41, 64)        0         \n",
            " g2D)                                                            \n",
            "                                                                 \n",
            " dropout_18 (Dropout)        (None, 2, 41, 64)         0         \n",
            "                                                                 \n",
            " flatten_3 (Flatten)         (None, 5248)              0         \n",
            "                                                                 \n",
            " dense_11 (Dense)            (None, 64)                335936    \n",
            "                                                                 \n",
            " dropout_19 (Dropout)        (None, 64)                0         \n",
            "                                                                 \n",
            " dense_12 (Dense)            (None, 32)                2080      \n",
            "                                                                 \n",
            " dense_13 (Dense)            (None, 16)                528       \n",
            "                                                                 \n",
            " dense_14 (Dense)            (None, 10)                170       \n",
            "                                                                 \n",
            "=================================================================\n",
            "Total params: 363,170\n",
            "Trainable params: 363,170\n",
            "Non-trainable params: 0\n",
            "_________________________________________________________________\n"
          ]
        }
      ]
    },
    {
      "cell_type": "code",
      "source": [
        "model.compile(optimizer='adam',\n",
        "              loss=\"categorical_crossentropy\",\n",
        "              metrics=[\"accuracy\"])"
      ],
      "metadata": {
        "id": "ztWWdr7DoZDx"
      },
      "execution_count": null,
      "outputs": []
    },
    {
      "cell_type": "code",
      "source": [
        "history=model.fit(X_train, y_train, epochs=200, batch_size=128, validation_data=(X_val, y_val))"
      ],
      "metadata": {
        "id": "QXsUBcX5onvO",
        "colab": {
          "base_uri": "https://localhost:8080/"
        },
        "outputId": "8f281aa1-c2bb-4d30-be1c-c3eb233347ac"
      },
      "execution_count": null,
      "outputs": [
        {
          "output_type": "stream",
          "name": "stdout",
          "text": [
            "Epoch 1/200\n",
            "44/44 [==============================] - 5s 43ms/step - loss: 2.8005 - accuracy: 0.1104 - val_loss: 2.2965 - val_accuracy: 0.1217\n",
            "Epoch 2/200\n",
            "44/44 [==============================] - 1s 27ms/step - loss: 2.2834 - accuracy: 0.1178 - val_loss: 2.2899 - val_accuracy: 0.1238\n",
            "Epoch 3/200\n",
            "44/44 [==============================] - 1s 26ms/step - loss: 2.2802 - accuracy: 0.1133 - val_loss: 2.2853 - val_accuracy: 0.1210\n",
            "Epoch 4/200\n",
            "44/44 [==============================] - 1s 27ms/step - loss: 2.2715 - accuracy: 0.1238 - val_loss: 2.2813 - val_accuracy: 0.1489\n",
            "Epoch 5/200\n",
            "44/44 [==============================] - 1s 27ms/step - loss: 2.2639 - accuracy: 0.1115 - val_loss: 2.2754 - val_accuracy: 0.1417\n",
            "Epoch 6/200\n",
            "44/44 [==============================] - 1s 27ms/step - loss: 2.2448 - accuracy: 0.1167 - val_loss: 2.2571 - val_accuracy: 0.1417\n",
            "Epoch 7/200\n",
            "44/44 [==============================] - 1s 26ms/step - loss: 2.2072 - accuracy: 0.1541 - val_loss: 2.2031 - val_accuracy: 0.2176\n",
            "Epoch 8/200\n",
            "44/44 [==============================] - 1s 27ms/step - loss: 2.1606 - accuracy: 0.1879 - val_loss: 2.1593 - val_accuracy: 0.2233\n",
            "Epoch 9/200\n",
            "44/44 [==============================] - 1s 27ms/step - loss: 2.1236 - accuracy: 0.2071 - val_loss: 2.1374 - val_accuracy: 0.2326\n",
            "Epoch 10/200\n",
            "44/44 [==============================] - 1s 27ms/step - loss: 2.0818 - accuracy: 0.2140 - val_loss: 2.0725 - val_accuracy: 0.2384\n",
            "Epoch 11/200\n",
            "44/44 [==============================] - 1s 28ms/step - loss: 2.0301 - accuracy: 0.2328 - val_loss: 2.0431 - val_accuracy: 0.2477\n",
            "Epoch 12/200\n",
            "44/44 [==============================] - 1s 26ms/step - loss: 1.9743 - accuracy: 0.2441 - val_loss: 1.9736 - val_accuracy: 0.2806\n",
            "Epoch 13/200\n",
            "44/44 [==============================] - 1s 26ms/step - loss: 1.9147 - accuracy: 0.2645 - val_loss: 1.9077 - val_accuracy: 0.3142\n",
            "Epoch 14/200\n",
            "44/44 [==============================] - 1s 27ms/step - loss: 1.8934 - accuracy: 0.2804 - val_loss: 1.8515 - val_accuracy: 0.3300\n",
            "Epoch 15/200\n",
            "44/44 [==============================] - 1s 27ms/step - loss: 1.8489 - accuracy: 0.2997 - val_loss: 1.8214 - val_accuracy: 0.3407\n",
            "Epoch 16/200\n",
            "44/44 [==============================] - 1s 27ms/step - loss: 1.7910 - accuracy: 0.3234 - val_loss: 1.7387 - val_accuracy: 0.3923\n",
            "Epoch 17/200\n",
            "44/44 [==============================] - 1s 26ms/step - loss: 1.7297 - accuracy: 0.3547 - val_loss: 1.7211 - val_accuracy: 0.4180\n",
            "Epoch 18/200\n",
            "44/44 [==============================] - 1s 26ms/step - loss: 1.6840 - accuracy: 0.3747 - val_loss: 1.6924 - val_accuracy: 0.4223\n",
            "Epoch 19/200\n",
            "44/44 [==============================] - 1s 27ms/step - loss: 1.6348 - accuracy: 0.3899 - val_loss: 1.6459 - val_accuracy: 0.4517\n",
            "Epoch 20/200\n",
            "44/44 [==============================] - 1s 27ms/step - loss: 1.5987 - accuracy: 0.4111 - val_loss: 1.6343 - val_accuracy: 0.4517\n",
            "Epoch 21/200\n",
            "44/44 [==============================] - 1s 27ms/step - loss: 1.5454 - accuracy: 0.4288 - val_loss: 1.5955 - val_accuracy: 0.4746\n",
            "Epoch 22/200\n",
            "44/44 [==============================] - 1s 27ms/step - loss: 1.4963 - accuracy: 0.4517 - val_loss: 1.5216 - val_accuracy: 0.5039\n",
            "Epoch 23/200\n",
            "44/44 [==============================] - 1s 27ms/step - loss: 1.4526 - accuracy: 0.4658 - val_loss: 1.5187 - val_accuracy: 0.4903\n",
            "Epoch 24/200\n",
            "44/44 [==============================] - 1s 26ms/step - loss: 1.4393 - accuracy: 0.4715 - val_loss: 1.4663 - val_accuracy: 0.4989\n",
            "Epoch 25/200\n",
            "44/44 [==============================] - 1s 26ms/step - loss: 1.3932 - accuracy: 0.4803 - val_loss: 1.4299 - val_accuracy: 0.4839\n",
            "Epoch 26/200\n",
            "44/44 [==============================] - 1s 26ms/step - loss: 1.3625 - accuracy: 0.4934 - val_loss: 1.4325 - val_accuracy: 0.4925\n",
            "Epoch 27/200\n",
            "44/44 [==============================] - 1s 27ms/step - loss: 1.3557 - accuracy: 0.4957 - val_loss: 1.4119 - val_accuracy: 0.5125\n",
            "Epoch 28/200\n",
            "44/44 [==============================] - 1s 27ms/step - loss: 1.3343 - accuracy: 0.5029 - val_loss: 1.4238 - val_accuracy: 0.5118\n",
            "Epoch 29/200\n",
            "44/44 [==============================] - 1s 26ms/step - loss: 1.2870 - accuracy: 0.5211 - val_loss: 1.3517 - val_accuracy: 0.5304\n",
            "Epoch 30/200\n",
            "44/44 [==============================] - 1s 26ms/step - loss: 1.2575 - accuracy: 0.5317 - val_loss: 1.3610 - val_accuracy: 0.5376\n",
            "Epoch 31/200\n",
            "44/44 [==============================] - 1s 27ms/step - loss: 1.2543 - accuracy: 0.5236 - val_loss: 1.3393 - val_accuracy: 0.5540\n",
            "Epoch 32/200\n",
            "44/44 [==============================] - 1s 27ms/step - loss: 1.2630 - accuracy: 0.5304 - val_loss: 1.2975 - val_accuracy: 0.5548\n",
            "Epoch 33/200\n",
            "44/44 [==============================] - 1s 27ms/step - loss: 1.2120 - accuracy: 0.5499 - val_loss: 1.2669 - val_accuracy: 0.5691\n",
            "Epoch 34/200\n",
            "44/44 [==============================] - 1s 27ms/step - loss: 1.2101 - accuracy: 0.5469 - val_loss: 1.2709 - val_accuracy: 0.5655\n",
            "Epoch 35/200\n",
            "44/44 [==============================] - 1s 26ms/step - loss: 1.1909 - accuracy: 0.5567 - val_loss: 1.2655 - val_accuracy: 0.5898\n",
            "Epoch 36/200\n",
            "44/44 [==============================] - 1s 27ms/step - loss: 1.1492 - accuracy: 0.5693 - val_loss: 1.2804 - val_accuracy: 0.5555\n",
            "Epoch 37/200\n",
            "44/44 [==============================] - 1s 26ms/step - loss: 1.1449 - accuracy: 0.5800 - val_loss: 1.2131 - val_accuracy: 0.5841\n",
            "Epoch 38/200\n",
            "44/44 [==============================] - 1s 27ms/step - loss: 1.1387 - accuracy: 0.5861 - val_loss: 1.2945 - val_accuracy: 0.5497\n",
            "Epoch 39/200\n",
            "44/44 [==============================] - 1s 26ms/step - loss: 1.1194 - accuracy: 0.5825 - val_loss: 1.2665 - val_accuracy: 0.5540\n",
            "Epoch 40/200\n",
            "44/44 [==============================] - 1s 27ms/step - loss: 1.0956 - accuracy: 0.5947 - val_loss: 1.2220 - val_accuracy: 0.5698\n",
            "Epoch 41/200\n",
            "44/44 [==============================] - 1s 27ms/step - loss: 1.0598 - accuracy: 0.6081 - val_loss: 1.1302 - val_accuracy: 0.6092\n",
            "Epoch 42/200\n",
            "44/44 [==============================] - 1s 27ms/step - loss: 1.0549 - accuracy: 0.6033 - val_loss: 1.1958 - val_accuracy: 0.5791\n",
            "Epoch 43/200\n",
            "44/44 [==============================] - 1s 27ms/step - loss: 1.0715 - accuracy: 0.6036 - val_loss: 1.2145 - val_accuracy: 0.5719\n",
            "Epoch 44/200\n",
            "44/44 [==============================] - 1s 27ms/step - loss: 0.9984 - accuracy: 0.6308 - val_loss: 1.1351 - val_accuracy: 0.5927\n",
            "Epoch 45/200\n",
            "44/44 [==============================] - 1s 27ms/step - loss: 1.0030 - accuracy: 0.6330 - val_loss: 1.1957 - val_accuracy: 0.5848\n",
            "Epoch 46/200\n",
            "44/44 [==============================] - 1s 27ms/step - loss: 0.9828 - accuracy: 0.6408 - val_loss: 1.1279 - val_accuracy: 0.6135\n",
            "Epoch 47/200\n",
            "44/44 [==============================] - 1s 27ms/step - loss: 0.9771 - accuracy: 0.6426 - val_loss: 1.1273 - val_accuracy: 0.6142\n",
            "Epoch 48/200\n",
            "44/44 [==============================] - 1s 26ms/step - loss: 0.9465 - accuracy: 0.6555 - val_loss: 1.0685 - val_accuracy: 0.6407\n",
            "Epoch 49/200\n",
            "44/44 [==============================] - 1s 27ms/step - loss: 0.9449 - accuracy: 0.6573 - val_loss: 1.3230 - val_accuracy: 0.5447\n",
            "Epoch 50/200\n",
            "44/44 [==============================] - 1s 27ms/step - loss: 0.9184 - accuracy: 0.6612 - val_loss: 1.0786 - val_accuracy: 0.6328\n",
            "Epoch 51/200\n",
            "44/44 [==============================] - 1s 27ms/step - loss: 0.9043 - accuracy: 0.6696 - val_loss: 1.0853 - val_accuracy: 0.6392\n",
            "Epoch 52/200\n",
            "44/44 [==============================] - 1s 28ms/step - loss: 0.8808 - accuracy: 0.6775 - val_loss: 1.0807 - val_accuracy: 0.6421\n",
            "Epoch 53/200\n",
            "44/44 [==============================] - 1s 27ms/step - loss: 0.8791 - accuracy: 0.6773 - val_loss: 1.0669 - val_accuracy: 0.6342\n",
            "Epoch 54/200\n",
            "44/44 [==============================] - 1s 27ms/step - loss: 0.8655 - accuracy: 0.6881 - val_loss: 1.0857 - val_accuracy: 0.6356\n",
            "Epoch 55/200\n",
            "44/44 [==============================] - 1s 27ms/step - loss: 0.8630 - accuracy: 0.6856 - val_loss: 1.0656 - val_accuracy: 0.6371\n",
            "Epoch 56/200\n",
            "44/44 [==============================] - 1s 27ms/step - loss: 0.8610 - accuracy: 0.6861 - val_loss: 1.0707 - val_accuracy: 0.6399\n",
            "Epoch 57/200\n",
            "44/44 [==============================] - 1s 26ms/step - loss: 0.8511 - accuracy: 0.6911 - val_loss: 0.9608 - val_accuracy: 0.6786\n",
            "Epoch 58/200\n",
            "44/44 [==============================] - 1s 27ms/step - loss: 0.8347 - accuracy: 0.6992 - val_loss: 1.0452 - val_accuracy: 0.6464\n",
            "Epoch 59/200\n",
            "44/44 [==============================] - 1s 26ms/step - loss: 0.8183 - accuracy: 0.7031 - val_loss: 1.1335 - val_accuracy: 0.6070\n",
            "Epoch 60/200\n",
            "44/44 [==============================] - 1s 26ms/step - loss: 0.8078 - accuracy: 0.7106 - val_loss: 0.9989 - val_accuracy: 0.6657\n",
            "Epoch 61/200\n",
            "44/44 [==============================] - 1s 27ms/step - loss: 0.7910 - accuracy: 0.7214 - val_loss: 0.9569 - val_accuracy: 0.6786\n",
            "Epoch 62/200\n",
            "44/44 [==============================] - 1s 27ms/step - loss: 0.8005 - accuracy: 0.7155 - val_loss: 1.1019 - val_accuracy: 0.6242\n",
            "Epoch 63/200\n",
            "44/44 [==============================] - 1s 27ms/step - loss: 0.7676 - accuracy: 0.7246 - val_loss: 0.9370 - val_accuracy: 0.6986\n",
            "Epoch 64/200\n",
            "44/44 [==============================] - 1s 26ms/step - loss: 0.7680 - accuracy: 0.7215 - val_loss: 1.0453 - val_accuracy: 0.6378\n",
            "Epoch 65/200\n",
            "44/44 [==============================] - 1s 27ms/step - loss: 0.7461 - accuracy: 0.7344 - val_loss: 0.9902 - val_accuracy: 0.6686\n",
            "Epoch 66/200\n",
            "44/44 [==============================] - 1s 26ms/step - loss: 0.7671 - accuracy: 0.7273 - val_loss: 0.9792 - val_accuracy: 0.6657\n",
            "Epoch 67/200\n",
            "44/44 [==============================] - 1s 27ms/step - loss: 0.7547 - accuracy: 0.7278 - val_loss: 0.9489 - val_accuracy: 0.6772\n",
            "Epoch 68/200\n",
            "44/44 [==============================] - 1s 27ms/step - loss: 0.7209 - accuracy: 0.7427 - val_loss: 1.0104 - val_accuracy: 0.6700\n",
            "Epoch 69/200\n",
            "44/44 [==============================] - 1s 27ms/step - loss: 0.7034 - accuracy: 0.7434 - val_loss: 0.9813 - val_accuracy: 0.6779\n",
            "Epoch 70/200\n",
            "44/44 [==============================] - 1s 27ms/step - loss: 0.7096 - accuracy: 0.7477 - val_loss: 0.9767 - val_accuracy: 0.6707\n",
            "Epoch 71/200\n",
            "44/44 [==============================] - 1s 27ms/step - loss: 0.6860 - accuracy: 0.7555 - val_loss: 0.8909 - val_accuracy: 0.6922\n",
            "Epoch 72/200\n",
            "44/44 [==============================] - 1s 27ms/step - loss: 0.6910 - accuracy: 0.7555 - val_loss: 0.9252 - val_accuracy: 0.6836\n",
            "Epoch 73/200\n",
            "44/44 [==============================] - 1s 27ms/step - loss: 0.6870 - accuracy: 0.7613 - val_loss: 0.9380 - val_accuracy: 0.6879\n",
            "Epoch 74/200\n",
            "44/44 [==============================] - 1s 27ms/step - loss: 0.6926 - accuracy: 0.7466 - val_loss: 0.9534 - val_accuracy: 0.6779\n",
            "Epoch 75/200\n",
            "44/44 [==============================] - 1s 27ms/step - loss: 0.6777 - accuracy: 0.7513 - val_loss: 0.9651 - val_accuracy: 0.6786\n",
            "Epoch 76/200\n",
            "44/44 [==============================] - 1s 27ms/step - loss: 0.6669 - accuracy: 0.7606 - val_loss: 0.8978 - val_accuracy: 0.7266\n",
            "Epoch 77/200\n",
            "44/44 [==============================] - 1s 27ms/step - loss: 0.6786 - accuracy: 0.7548 - val_loss: 0.9250 - val_accuracy: 0.7015\n",
            "Epoch 78/200\n",
            "44/44 [==============================] - 1s 26ms/step - loss: 0.6550 - accuracy: 0.7717 - val_loss: 0.9303 - val_accuracy: 0.7022\n",
            "Epoch 79/200\n",
            "44/44 [==============================] - 1s 27ms/step - loss: 0.6305 - accuracy: 0.7801 - val_loss: 0.9084 - val_accuracy: 0.7015\n",
            "Epoch 80/200\n",
            "44/44 [==============================] - 1s 27ms/step - loss: 0.6165 - accuracy: 0.7815 - val_loss: 0.8836 - val_accuracy: 0.7094\n",
            "Epoch 81/200\n",
            "44/44 [==============================] - 1s 26ms/step - loss: 0.6029 - accuracy: 0.7888 - val_loss: 0.9017 - val_accuracy: 0.7108\n",
            "Epoch 82/200\n",
            "44/44 [==============================] - 1s 27ms/step - loss: 0.5967 - accuracy: 0.7926 - val_loss: 0.9705 - val_accuracy: 0.7065\n",
            "Epoch 83/200\n",
            "44/44 [==============================] - 1s 27ms/step - loss: 0.5979 - accuracy: 0.7929 - val_loss: 0.7885 - val_accuracy: 0.7452\n",
            "Epoch 84/200\n",
            "44/44 [==============================] - 1s 27ms/step - loss: 0.6113 - accuracy: 0.7831 - val_loss: 0.8729 - val_accuracy: 0.7230\n",
            "Epoch 85/200\n",
            "44/44 [==============================] - 1s 27ms/step - loss: 0.5940 - accuracy: 0.7962 - val_loss: 0.8632 - val_accuracy: 0.7130\n",
            "Epoch 86/200\n",
            "44/44 [==============================] - 1s 27ms/step - loss: 0.5766 - accuracy: 0.7996 - val_loss: 0.8380 - val_accuracy: 0.7280\n",
            "Epoch 87/200\n",
            "44/44 [==============================] - 1s 26ms/step - loss: 0.5637 - accuracy: 0.8006 - val_loss: 0.8496 - val_accuracy: 0.7137\n",
            "Epoch 88/200\n",
            "44/44 [==============================] - 1s 27ms/step - loss: 0.5672 - accuracy: 0.7976 - val_loss: 0.9080 - val_accuracy: 0.6958\n",
            "Epoch 89/200\n",
            "44/44 [==============================] - 1s 27ms/step - loss: 0.6010 - accuracy: 0.7917 - val_loss: 0.8688 - val_accuracy: 0.7158\n",
            "Epoch 90/200\n",
            "44/44 [==============================] - 1s 26ms/step - loss: 0.5524 - accuracy: 0.8082 - val_loss: 0.9004 - val_accuracy: 0.7079\n",
            "Epoch 91/200\n",
            "44/44 [==============================] - 1s 27ms/step - loss: 0.5461 - accuracy: 0.8085 - val_loss: 0.9214 - val_accuracy: 0.7094\n",
            "Epoch 92/200\n",
            "44/44 [==============================] - 1s 27ms/step - loss: 0.5399 - accuracy: 0.8134 - val_loss: 0.9493 - val_accuracy: 0.7079\n",
            "Epoch 93/200\n",
            "44/44 [==============================] - 1s 27ms/step - loss: 0.5255 - accuracy: 0.8128 - val_loss: 0.8747 - val_accuracy: 0.7180\n",
            "Epoch 94/200\n",
            "44/44 [==============================] - 1s 28ms/step - loss: 0.5216 - accuracy: 0.8223 - val_loss: 0.8854 - val_accuracy: 0.7187\n",
            "Epoch 95/200\n",
            "44/44 [==============================] - 1s 28ms/step - loss: 0.5179 - accuracy: 0.8164 - val_loss: 0.8678 - val_accuracy: 0.7115\n",
            "Epoch 96/200\n",
            "44/44 [==============================] - 1s 27ms/step - loss: 0.5001 - accuracy: 0.8293 - val_loss: 0.8449 - val_accuracy: 0.7337\n",
            "Epoch 97/200\n",
            "44/44 [==============================] - 1s 27ms/step - loss: 0.5468 - accuracy: 0.8058 - val_loss: 0.8742 - val_accuracy: 0.7230\n",
            "Epoch 98/200\n",
            "44/44 [==============================] - 1s 28ms/step - loss: 0.4949 - accuracy: 0.8304 - val_loss: 0.8756 - val_accuracy: 0.7115\n",
            "Epoch 99/200\n",
            "44/44 [==============================] - 1s 27ms/step - loss: 0.5052 - accuracy: 0.8293 - val_loss: 0.8250 - val_accuracy: 0.7323\n",
            "Epoch 100/200\n",
            "44/44 [==============================] - 1s 26ms/step - loss: 0.4848 - accuracy: 0.8373 - val_loss: 0.9874 - val_accuracy: 0.6943\n",
            "Epoch 101/200\n",
            "44/44 [==============================] - 1s 26ms/step - loss: 0.4713 - accuracy: 0.8330 - val_loss: 0.9500 - val_accuracy: 0.7244\n",
            "Epoch 102/200\n",
            "44/44 [==============================] - 1s 27ms/step - loss: 0.4896 - accuracy: 0.8309 - val_loss: 0.9327 - val_accuracy: 0.6986\n",
            "Epoch 103/200\n",
            "44/44 [==============================] - 1s 27ms/step - loss: 0.4623 - accuracy: 0.8388 - val_loss: 0.7541 - val_accuracy: 0.7559\n",
            "Epoch 104/200\n",
            "44/44 [==============================] - 1s 27ms/step - loss: 0.4728 - accuracy: 0.8361 - val_loss: 0.7942 - val_accuracy: 0.7588\n",
            "Epoch 105/200\n",
            "44/44 [==============================] - 1s 27ms/step - loss: 0.4777 - accuracy: 0.8341 - val_loss: 0.8077 - val_accuracy: 0.7516\n",
            "Epoch 106/200\n",
            "44/44 [==============================] - 1s 27ms/step - loss: 0.4800 - accuracy: 0.8330 - val_loss: 0.8926 - val_accuracy: 0.7337\n",
            "Epoch 107/200\n",
            "44/44 [==============================] - 1s 26ms/step - loss: 0.4703 - accuracy: 0.8413 - val_loss: 0.8348 - val_accuracy: 0.7509\n",
            "Epoch 108/200\n",
            "44/44 [==============================] - 1s 27ms/step - loss: 0.4620 - accuracy: 0.8438 - val_loss: 0.8601 - val_accuracy: 0.7309\n",
            "Epoch 109/200\n",
            "44/44 [==============================] - 1s 27ms/step - loss: 0.4664 - accuracy: 0.8431 - val_loss: 0.7851 - val_accuracy: 0.7566\n",
            "Epoch 110/200\n",
            "44/44 [==============================] - 1s 27ms/step - loss: 0.4382 - accuracy: 0.8477 - val_loss: 0.8203 - val_accuracy: 0.7509\n",
            "Epoch 111/200\n",
            "44/44 [==============================] - 1s 27ms/step - loss: 0.4487 - accuracy: 0.8406 - val_loss: 0.8140 - val_accuracy: 0.7487\n",
            "Epoch 112/200\n",
            "44/44 [==============================] - 1s 27ms/step - loss: 0.4554 - accuracy: 0.8431 - val_loss: 0.8882 - val_accuracy: 0.7266\n",
            "Epoch 113/200\n",
            "44/44 [==============================] - 1s 27ms/step - loss: 0.4249 - accuracy: 0.8493 - val_loss: 0.8842 - val_accuracy: 0.7330\n",
            "Epoch 114/200\n",
            "44/44 [==============================] - 1s 27ms/step - loss: 0.4298 - accuracy: 0.8549 - val_loss: 0.8285 - val_accuracy: 0.7480\n",
            "Epoch 115/200\n",
            "44/44 [==============================] - 1s 27ms/step - loss: 0.4221 - accuracy: 0.8563 - val_loss: 0.8963 - val_accuracy: 0.7387\n",
            "Epoch 116/200\n",
            "44/44 [==============================] - 1s 26ms/step - loss: 0.3918 - accuracy: 0.8665 - val_loss: 0.8038 - val_accuracy: 0.7545\n",
            "Epoch 117/200\n",
            "44/44 [==============================] - 1s 27ms/step - loss: 0.4289 - accuracy: 0.8534 - val_loss: 0.8684 - val_accuracy: 0.7459\n",
            "Epoch 118/200\n",
            "44/44 [==============================] - 1s 27ms/step - loss: 0.4231 - accuracy: 0.8533 - val_loss: 0.9724 - val_accuracy: 0.7079\n",
            "Epoch 119/200\n",
            "44/44 [==============================] - 1s 27ms/step - loss: 0.4312 - accuracy: 0.8515 - val_loss: 0.7857 - val_accuracy: 0.7559\n",
            "Epoch 120/200\n",
            "44/44 [==============================] - 1s 27ms/step - loss: 0.4123 - accuracy: 0.8574 - val_loss: 0.7840 - val_accuracy: 0.7502\n",
            "Epoch 121/200\n",
            "44/44 [==============================] - 1s 27ms/step - loss: 0.3924 - accuracy: 0.8660 - val_loss: 0.8407 - val_accuracy: 0.7402\n",
            "Epoch 122/200\n",
            "44/44 [==============================] - 1s 26ms/step - loss: 0.3939 - accuracy: 0.8615 - val_loss: 0.7895 - val_accuracy: 0.7545\n",
            "Epoch 123/200\n",
            "44/44 [==============================] - 1s 28ms/step - loss: 0.3861 - accuracy: 0.8686 - val_loss: 0.9292 - val_accuracy: 0.7258\n",
            "Epoch 124/200\n",
            "44/44 [==============================] - 1s 27ms/step - loss: 0.3927 - accuracy: 0.8656 - val_loss: 0.9528 - val_accuracy: 0.7287\n",
            "Epoch 125/200\n",
            "44/44 [==============================] - 1s 27ms/step - loss: 0.3808 - accuracy: 0.8695 - val_loss: 0.8153 - val_accuracy: 0.7609\n",
            "Epoch 126/200\n",
            "44/44 [==============================] - 1s 27ms/step - loss: 0.3882 - accuracy: 0.8765 - val_loss: 0.8042 - val_accuracy: 0.7581\n",
            "Epoch 127/200\n",
            "44/44 [==============================] - 1s 27ms/step - loss: 0.3605 - accuracy: 0.8767 - val_loss: 0.8176 - val_accuracy: 0.7466\n",
            "Epoch 128/200\n",
            "44/44 [==============================] - 1s 27ms/step - loss: 0.3799 - accuracy: 0.8633 - val_loss: 0.8027 - val_accuracy: 0.7638\n",
            "Epoch 129/200\n",
            "44/44 [==============================] - 1s 27ms/step - loss: 0.3856 - accuracy: 0.8694 - val_loss: 0.7830 - val_accuracy: 0.7681\n",
            "Epoch 130/200\n",
            "44/44 [==============================] - 1s 27ms/step - loss: 0.3622 - accuracy: 0.8747 - val_loss: 0.9380 - val_accuracy: 0.7359\n",
            "Epoch 131/200\n",
            "44/44 [==============================] - 1s 28ms/step - loss: 0.3843 - accuracy: 0.8674 - val_loss: 0.7735 - val_accuracy: 0.7616\n",
            "Epoch 132/200\n",
            "44/44 [==============================] - 1s 27ms/step - loss: 0.3752 - accuracy: 0.8715 - val_loss: 0.8149 - val_accuracy: 0.7595\n",
            "Epoch 133/200\n",
            "44/44 [==============================] - 1s 27ms/step - loss: 0.3928 - accuracy: 0.8767 - val_loss: 0.8190 - val_accuracy: 0.7244\n",
            "Epoch 134/200\n",
            "44/44 [==============================] - 1s 27ms/step - loss: 0.3629 - accuracy: 0.8763 - val_loss: 0.8304 - val_accuracy: 0.7566\n",
            "Epoch 135/200\n",
            "44/44 [==============================] - 1s 28ms/step - loss: 0.3381 - accuracy: 0.8799 - val_loss: 0.8642 - val_accuracy: 0.7380\n",
            "Epoch 136/200\n",
            "44/44 [==============================] - 1s 27ms/step - loss: 0.3396 - accuracy: 0.8842 - val_loss: 0.8350 - val_accuracy: 0.7480\n",
            "Epoch 137/200\n",
            "44/44 [==============================] - 1s 29ms/step - loss: 0.3250 - accuracy: 0.8924 - val_loss: 0.9272 - val_accuracy: 0.7330\n",
            "Epoch 138/200\n",
            "44/44 [==============================] - 1s 26ms/step - loss: 0.3575 - accuracy: 0.8805 - val_loss: 0.8151 - val_accuracy: 0.7659\n",
            "Epoch 139/200\n",
            "44/44 [==============================] - 1s 26ms/step - loss: 0.3333 - accuracy: 0.8890 - val_loss: 0.7951 - val_accuracy: 0.7709\n",
            "Epoch 140/200\n",
            "44/44 [==============================] - 1s 26ms/step - loss: 0.3283 - accuracy: 0.8842 - val_loss: 0.8263 - val_accuracy: 0.7466\n",
            "Epoch 141/200\n",
            "44/44 [==============================] - 1s 27ms/step - loss: 0.3403 - accuracy: 0.8831 - val_loss: 0.8351 - val_accuracy: 0.7509\n",
            "Epoch 142/200\n",
            "44/44 [==============================] - 1s 27ms/step - loss: 0.3329 - accuracy: 0.8903 - val_loss: 0.8698 - val_accuracy: 0.7394\n",
            "Epoch 143/200\n",
            "44/44 [==============================] - 1s 27ms/step - loss: 0.3176 - accuracy: 0.8892 - val_loss: 0.7427 - val_accuracy: 0.7795\n",
            "Epoch 144/200\n",
            "44/44 [==============================] - 1s 27ms/step - loss: 0.3090 - accuracy: 0.8969 - val_loss: 0.8782 - val_accuracy: 0.7409\n",
            "Epoch 145/200\n",
            "44/44 [==============================] - 1s 27ms/step - loss: 0.3375 - accuracy: 0.8869 - val_loss: 0.7788 - val_accuracy: 0.7724\n",
            "Epoch 146/200\n",
            "44/44 [==============================] - 1s 27ms/step - loss: 0.3400 - accuracy: 0.8876 - val_loss: 0.8857 - val_accuracy: 0.7387\n",
            "Epoch 147/200\n",
            "44/44 [==============================] - 1s 26ms/step - loss: 0.3066 - accuracy: 0.8930 - val_loss: 0.7376 - val_accuracy: 0.7745\n",
            "Epoch 148/200\n",
            "44/44 [==============================] - 1s 26ms/step - loss: 0.3262 - accuracy: 0.8905 - val_loss: 0.8527 - val_accuracy: 0.7373\n",
            "Epoch 149/200\n",
            "44/44 [==============================] - 1s 27ms/step - loss: 0.2991 - accuracy: 0.8985 - val_loss: 0.8840 - val_accuracy: 0.7523\n",
            "Epoch 150/200\n",
            "44/44 [==============================] - 1s 27ms/step - loss: 0.3183 - accuracy: 0.8932 - val_loss: 0.8022 - val_accuracy: 0.7666\n",
            "Epoch 151/200\n",
            "44/44 [==============================] - 1s 27ms/step - loss: 0.2923 - accuracy: 0.9035 - val_loss: 0.8866 - val_accuracy: 0.7595\n",
            "Epoch 152/200\n",
            "44/44 [==============================] - 1s 26ms/step - loss: 0.3156 - accuracy: 0.8957 - val_loss: 0.8550 - val_accuracy: 0.7538\n",
            "Epoch 153/200\n",
            "44/44 [==============================] - 1s 27ms/step - loss: 0.3053 - accuracy: 0.8964 - val_loss: 0.9402 - val_accuracy: 0.7294\n",
            "Epoch 154/200\n",
            "44/44 [==============================] - 1s 26ms/step - loss: 0.3215 - accuracy: 0.8924 - val_loss: 0.9226 - val_accuracy: 0.7323\n",
            "Epoch 155/200\n",
            "44/44 [==============================] - 1s 27ms/step - loss: 0.3008 - accuracy: 0.8978 - val_loss: 0.7802 - val_accuracy: 0.7781\n",
            "Epoch 156/200\n",
            "44/44 [==============================] - 1s 27ms/step - loss: 0.2971 - accuracy: 0.8975 - val_loss: 0.8180 - val_accuracy: 0.7573\n",
            "Epoch 157/200\n",
            "44/44 [==============================] - 1s 28ms/step - loss: 0.2880 - accuracy: 0.9005 - val_loss: 0.8958 - val_accuracy: 0.7473\n",
            "Epoch 158/200\n",
            "44/44 [==============================] - 1s 27ms/step - loss: 0.3052 - accuracy: 0.9009 - val_loss: 0.8634 - val_accuracy: 0.7516\n",
            "Epoch 159/200\n",
            "44/44 [==============================] - 1s 27ms/step - loss: 0.2825 - accuracy: 0.9078 - val_loss: 0.7624 - val_accuracy: 0.7731\n",
            "Epoch 160/200\n",
            "44/44 [==============================] - 1s 27ms/step - loss: 0.3094 - accuracy: 0.9014 - val_loss: 0.8013 - val_accuracy: 0.7573\n",
            "Epoch 161/200\n",
            "44/44 [==============================] - 1s 27ms/step - loss: 0.2875 - accuracy: 0.9000 - val_loss: 0.8100 - val_accuracy: 0.7502\n",
            "Epoch 162/200\n",
            "44/44 [==============================] - 1s 26ms/step - loss: 0.3012 - accuracy: 0.9018 - val_loss: 0.8431 - val_accuracy: 0.7595\n",
            "Epoch 163/200\n",
            "44/44 [==============================] - 1s 26ms/step - loss: 0.2729 - accuracy: 0.9080 - val_loss: 0.7967 - val_accuracy: 0.7659\n",
            "Epoch 164/200\n",
            "44/44 [==============================] - 1s 26ms/step - loss: 0.2762 - accuracy: 0.9062 - val_loss: 0.8996 - val_accuracy: 0.7566\n",
            "Epoch 165/200\n",
            "44/44 [==============================] - 1s 26ms/step - loss: 0.2731 - accuracy: 0.9071 - val_loss: 0.8366 - val_accuracy: 0.7717\n",
            "Epoch 166/200\n",
            "44/44 [==============================] - 1s 27ms/step - loss: 0.2828 - accuracy: 0.9016 - val_loss: 0.8571 - val_accuracy: 0.7459\n",
            "Epoch 167/200\n",
            "44/44 [==============================] - 1s 27ms/step - loss: 0.2763 - accuracy: 0.9066 - val_loss: 0.7730 - val_accuracy: 0.7688\n",
            "Epoch 168/200\n",
            "44/44 [==============================] - 1s 26ms/step - loss: 0.2860 - accuracy: 0.9078 - val_loss: 0.8446 - val_accuracy: 0.7631\n",
            "Epoch 169/200\n",
            "44/44 [==============================] - 1s 27ms/step - loss: 0.3008 - accuracy: 0.9019 - val_loss: 0.8088 - val_accuracy: 0.7652\n",
            "Epoch 170/200\n",
            "44/44 [==============================] - 1s 27ms/step - loss: 0.2701 - accuracy: 0.9102 - val_loss: 0.8331 - val_accuracy: 0.7695\n",
            "Epoch 171/200\n",
            "44/44 [==============================] - 1s 27ms/step - loss: 0.2737 - accuracy: 0.9102 - val_loss: 0.7273 - val_accuracy: 0.7881\n",
            "Epoch 172/200\n",
            "44/44 [==============================] - 1s 27ms/step - loss: 0.2767 - accuracy: 0.9077 - val_loss: 0.8217 - val_accuracy: 0.7545\n",
            "Epoch 173/200\n",
            "44/44 [==============================] - 1s 27ms/step - loss: 0.2968 - accuracy: 0.9046 - val_loss: 0.7836 - val_accuracy: 0.7681\n",
            "Epoch 174/200\n",
            "44/44 [==============================] - 1s 26ms/step - loss: 0.2500 - accuracy: 0.9159 - val_loss: 0.7543 - val_accuracy: 0.7688\n",
            "Epoch 175/200\n",
            "44/44 [==============================] - 1s 27ms/step - loss: 0.2560 - accuracy: 0.9162 - val_loss: 0.9081 - val_accuracy: 0.7473\n",
            "Epoch 176/200\n",
            "44/44 [==============================] - 1s 27ms/step - loss: 0.2739 - accuracy: 0.9098 - val_loss: 0.7628 - val_accuracy: 0.7824\n",
            "Epoch 177/200\n",
            "44/44 [==============================] - 1s 27ms/step - loss: 0.2810 - accuracy: 0.9087 - val_loss: 0.7758 - val_accuracy: 0.7645\n",
            "Epoch 178/200\n",
            "44/44 [==============================] - 1s 27ms/step - loss: 0.2695 - accuracy: 0.9093 - val_loss: 0.8927 - val_accuracy: 0.7638\n",
            "Epoch 179/200\n",
            "44/44 [==============================] - 1s 27ms/step - loss: 0.2465 - accuracy: 0.9191 - val_loss: 0.8341 - val_accuracy: 0.7538\n",
            "Epoch 180/200\n",
            "44/44 [==============================] - 1s 27ms/step - loss: 0.2652 - accuracy: 0.9154 - val_loss: 0.8137 - val_accuracy: 0.7688\n",
            "Epoch 181/200\n",
            "44/44 [==============================] - 1s 26ms/step - loss: 0.2457 - accuracy: 0.9198 - val_loss: 0.8500 - val_accuracy: 0.7509\n",
            "Epoch 182/200\n",
            "44/44 [==============================] - 1s 26ms/step - loss: 0.2493 - accuracy: 0.9188 - val_loss: 0.8503 - val_accuracy: 0.7623\n",
            "Epoch 183/200\n",
            "44/44 [==============================] - 1s 27ms/step - loss: 0.2404 - accuracy: 0.9161 - val_loss: 0.8972 - val_accuracy: 0.7616\n",
            "Epoch 184/200\n",
            "44/44 [==============================] - 1s 27ms/step - loss: 0.2193 - accuracy: 0.9293 - val_loss: 0.7807 - val_accuracy: 0.7853\n",
            "Epoch 185/200\n",
            "44/44 [==============================] - 1s 27ms/step - loss: 0.2545 - accuracy: 0.9195 - val_loss: 0.7651 - val_accuracy: 0.7838\n",
            "Epoch 186/200\n",
            "44/44 [==============================] - 1s 26ms/step - loss: 0.2625 - accuracy: 0.9100 - val_loss: 1.0221 - val_accuracy: 0.7309\n",
            "Epoch 187/200\n",
            "44/44 [==============================] - 1s 27ms/step - loss: 0.2484 - accuracy: 0.9189 - val_loss: 0.8753 - val_accuracy: 0.7659\n",
            "Epoch 188/200\n",
            "44/44 [==============================] - 1s 27ms/step - loss: 0.2279 - accuracy: 0.9291 - val_loss: 0.9501 - val_accuracy: 0.7301\n",
            "Epoch 189/200\n",
            "44/44 [==============================] - 1s 27ms/step - loss: 0.2331 - accuracy: 0.9207 - val_loss: 0.7973 - val_accuracy: 0.7788\n",
            "Epoch 190/200\n",
            "44/44 [==============================] - 1s 27ms/step - loss: 0.2160 - accuracy: 0.9275 - val_loss: 0.8152 - val_accuracy: 0.7745\n",
            "Epoch 191/200\n",
            "44/44 [==============================] - 1s 27ms/step - loss: 0.2548 - accuracy: 0.9137 - val_loss: 0.8814 - val_accuracy: 0.7538\n",
            "Epoch 192/200\n",
            "44/44 [==============================] - 1s 26ms/step - loss: 0.2494 - accuracy: 0.9211 - val_loss: 0.7955 - val_accuracy: 0.7595\n",
            "Epoch 193/200\n",
            "44/44 [==============================] - 1s 27ms/step - loss: 0.2469 - accuracy: 0.9186 - val_loss: 0.8507 - val_accuracy: 0.7681\n",
            "Epoch 194/200\n",
            "44/44 [==============================] - 1s 27ms/step - loss: 0.2265 - accuracy: 0.9252 - val_loss: 0.8688 - val_accuracy: 0.7366\n",
            "Epoch 195/200\n",
            "44/44 [==============================] - 1s 26ms/step - loss: 0.2402 - accuracy: 0.9195 - val_loss: 0.8643 - val_accuracy: 0.7495\n",
            "Epoch 196/200\n",
            "44/44 [==============================] - 1s 26ms/step - loss: 0.2570 - accuracy: 0.9175 - val_loss: 0.8100 - val_accuracy: 0.7559\n",
            "Epoch 197/200\n",
            "44/44 [==============================] - 1s 27ms/step - loss: 0.2243 - accuracy: 0.9261 - val_loss: 0.8467 - val_accuracy: 0.7688\n",
            "Epoch 198/200\n",
            "44/44 [==============================] - 1s 27ms/step - loss: 0.2421 - accuracy: 0.9184 - val_loss: 0.8355 - val_accuracy: 0.7738\n",
            "Epoch 199/200\n",
            "44/44 [==============================] - 1s 28ms/step - loss: 0.2310 - accuracy: 0.9264 - val_loss: 0.7986 - val_accuracy: 0.7853\n",
            "Epoch 200/200\n",
            "44/44 [==============================] - 1s 27ms/step - loss: 0.2442 - accuracy: 0.9184 - val_loss: 1.0552 - val_accuracy: 0.7223\n"
          ]
        }
      ]
    },
    {
      "cell_type": "code",
      "source": [
        "import matplotlib.pyplot as plt\n",
        "loss = history.history[\"loss\"]\n",
        "val_loss = history.history[\"val_loss\"]\n",
        "epochs = range(1, len(loss) + 1)\n",
        "plt.plot(epochs, loss, \"r\", label=\"Training loss\")\n",
        "plt.plot(epochs, val_loss, \"b\", label=\"Validation loss\")\n",
        "plt.title(\"Training and validation loss\")\n",
        "plt.xlabel(\"Epochs\")\n",
        "plt.ylabel(\"Loss\")\n",
        "plt.legend()\n",
        "plt.show()"
      ],
      "metadata": {
        "colab": {
          "base_uri": "https://localhost:8080/",
          "height": 472
        },
        "id": "HFm7q7D13sFf",
        "outputId": "184cd083-1094-4f86-eb1c-5fa98f927d2b"
      },
      "execution_count": null,
      "outputs": [
        {
          "output_type": "display_data",
          "data": {
            "text/plain": [
              "<Figure size 640x480 with 1 Axes>"
            ],
            "image/png": "[encoded data removed]"
          },
          "metadata": {}
        }
      ]
    },
    {
      "cell_type": "code",
      "source": [
        "plt.clf()\n",
        "acc = history.history[\"accuracy\"]\n",
        "val_acc = history.history[\"val_accuracy\"]\n",
        "plt.plot(epochs, acc, \"r\", label=\"Training accuracy\")\n",
        "plt.plot(epochs, val_acc, \"b\", label=\"Validation accuracy\")\n",
        "plt.title(\"Training and validation accuracy\")\n",
        "plt.xlabel(\"Epochs\")\n",
        "plt.ylabel(\"Accuracy\")\n",
        "plt.legend()\n",
        "plt.show()"
      ],
      "metadata": {
        "colab": {
          "base_uri": "https://localhost:8080/",
          "height": 472
        },
        "id": "1bT3aB7t5LOv",
        "outputId": "2a739657-dc79-4003-f8cf-9c211725fedf"
      },
      "execution_count": null,
      "outputs": [
        {
          "output_type": "display_data",
          "data": {
            "text/plain": [
              "<Figure size 640x480 with 1 Axes>"
            ],
            "image/png": "[encoded data removed]"
          },
          "metadata": {}
        }
      ]
    },
    {
      "cell_type": "code",
      "source": [
        "#New efficient processing scheme"
      ],
      "metadata": {
        "id": "3owTgMCm7Irj"
      },
      "execution_count": null,
      "outputs": []
    },
    {
      "cell_type": "code",
      "source": [
        "#Extracting the zipfile in google drive\n",
        "import zipfile\n",
        "from google.colab import drive\n",
        "\n",
        "drive.mount('/content/drive/')\n",
        "\n",
        "zip_ref = zipfile.ZipFile(\"/content/drive/My Drive/audio.zip\", 'r')\n",
        "zip_ref.extractall(\"/tmp\")\n",
        "zip_ref.close()\n"
      ],
      "metadata": {
        "colab": {
          "base_uri": "https://localhost:8080/"
        },
        "id": "ymILF0HY8w9V",
        "outputId": "bec218af-6db3-4879-e063-f25dd546a433"
      },
      "execution_count": null,
      "outputs": [
        {
          "output_type": "stream",
          "name": "stdout",
          "text": [
            "Mounted at /content/drive/\n"
          ]
        }
      ]
    },
    {
      "cell_type": "code",
      "source": [
        "import sys\n",
        "sys.path.insert(0, '/tmp/')\n",
        "sys.path.insert(0,'/content/drive/MyDrive/')\n",
        "from tensorflow import keras\n",
        "from tensorflow.keras import layers\n",
        "import numpy as np\n",
        "#from audio_classifier import AudioClassifier\n",
        "from tensorflow.keras.utils import to_categorical\n",
        "from tensorflow.keras.applications import DenseNet121\n",
        "import tensorflow\n",
        "print(\"Tensorflow-version:\", tensorflow.__version__)\n",
        "import numpy as np\n",
        "from sklearn.model_selection import train_test_split\n",
        "import pandas as pd\n",
        "from denseNet_audio_trans import denseNetAudioTransform\n",
        "#from audio_classifier import AudioClassifier\n",
        "from audio_utils import AudioUtil\n",
        "from numpy import savez_compressed\n",
        "from numpy import load"
      ],
      "metadata": {
        "colab": {
          "base_uri": "https://localhost:8080/"
        },
        "id": "YgT5rGeQDupo",
        "outputId": "890c45d1-5a64-4c5b-91dc-6cd97a3b3d63"
      },
      "execution_count": null,
      "outputs": [
        {
          "output_type": "stream",
          "name": "stdout",
          "text": [
            "Tensorflow-version: 2.12.0\n"
          ]
        }
      ]
    },
    {
      "cell_type": "code",
      "source": [
        "#read path csv\n",
        "df=pd.read_csv(\"/tmp/relativepaths.csv\")\n",
        "X=df['relative_path']\n",
        "y=df[\"classID\"]\n",
        "#split train\\test\n",
        "X_train, X_test, y_train, y_test = train_test_split(X, y, shuffle=True, stratify=y,test_size=0.2, random_state=1)\n",
        "#split train\\val\n",
        "X_train, X_val, y_train, y_val = train_test_split(X_train, y_train, shuffle=True,test_size=0.2, random_state=1)\n"
      ],
      "metadata": {
        "id": "QBtxpCdPDvyD"
      },
      "execution_count": null,
      "outputs": []
    },
    {
      "cell_type": "code",
      "source": [
        "atrans=denseNetAudioTransform(df=df, data_path=\"/tmp/audio/\")"
      ],
      "metadata": {
        "id": "vp7VwQFNDv9F"
      },
      "execution_count": null,
      "outputs": []
    },
    {
      "cell_type": "code",
      "source": [
        "def audio_transform(idx):\n",
        "  idx=idx.numpy()\n",
        "  return atrans[idx]\n",
        "\n",
        "def sgram_reshape(sgram, label):\n",
        "  sgram=sgram.numpy()\n",
        "  sgram_new=np.moveaxis(sgram,0,-1)\n",
        "  return sgram_new, label\n",
        "\n",
        "def _fixup_shape(x, y):\n",
        "    x.set_shape([None, 128, 400, 3]) # n, h, w, c\n",
        "    y.set_shape([None, 10]) # n, nb_classes\n",
        "    return x, y"
      ],
      "metadata": {
        "id": "zlwUSzOJDwIf"
      },
      "execution_count": null,
      "outputs": []
    },
    {
      "cell_type": "code",
      "source": [
        "#train dataset\n",
        "train_dataset=tensorflow.data.Dataset.from_tensor_slices((X_train.index))\n",
        "train_dataset=train_dataset.map(lambda i: tensorflow.py_function(func=audio_transform,\n",
        "                                                                 inp=[i],\n",
        "                                                                 Tout=[tensorflow.float64, tensorflow.float64]),\n",
        "                                num_parallel_calls=tensorflow.data.AUTOTUNE)\n",
        "train_dataset=train_dataset.map(lambda sgram, label: tensorflow.py_function(func=sgram_reshape,\n",
        "                                                                 inp=[sgram, label],\n",
        "                                                                 Tout=[tensorflow.float64, tensorflow.float64]),\n",
        "                                num_parallel_calls=tensorflow.data.AUTOTUNE)\n",
        "print(train_dataset)\n",
        "train_dataset=train_dataset.cache()\n",
        "train_dataset=train_dataset.shuffle(len(train_dataset))\n",
        "train_dataset=train_dataset.batch(32)\n",
        "print(train_dataset)\n",
        "train_dataset=train_dataset.map(_fixup_shape)\n",
        "print(train_dataset)\n",
        "train_dataset=train_dataset.prefetch(tensorflow.data.AUTOTUNE)\n",
        "print(train_dataset)\n",
        "print(len(train_dataset))"
      ],
      "metadata": {
        "colab": {
          "base_uri": "https://localhost:8080/"
        },
        "id": "VqGl_90mDwS7",
        "outputId": "1660ec59-be0f-4538-f193-22e0cc46eebf"
      },
      "execution_count": null,
      "outputs": [
        {
          "output_type": "stream",
          "name": "stdout",
          "text": [
            "<_ParallelMapDataset element_spec=(TensorSpec(shape=<unknown>, dtype=tf.float64, name=None), TensorSpec(shape=<unknown>, dtype=tf.float64, name=None))>\n",
            "<_BatchDataset element_spec=(TensorSpec(shape=<unknown>, dtype=tf.float64, name=None), TensorSpec(shape=<unknown>, dtype=tf.float64, name=None))>\n",
            "<_MapDataset element_spec=(TensorSpec(shape=(None, 128, 400, 3), dtype=tf.float64, name=None), TensorSpec(shape=(None, 10), dtype=tf.float64, name=None))>\n",
            "<_PrefetchDataset element_spec=(TensorSpec(shape=(None, 128, 400, 3), dtype=tf.float64, name=None), TensorSpec(shape=(None, 10), dtype=tf.float64, name=None))>\n",
            "175\n"
          ]
        }
      ]
    },
    {
      "cell_type": "code",
      "source": [
        "val_dataset=tensorflow.data.Dataset.from_tensor_slices((X_val.index))\n",
        "val_dataset=val_dataset.map(lambda i: tensorflow.py_function(func=audio_transform,\n",
        "                                                                 inp=[i],\n",
        "                                                                 Tout=[tensorflow.float64, tensorflow.float64]),\n",
        "                                num_parallel_calls=tensorflow.data.AUTOTUNE)\n",
        "val_dataset=val_dataset.map(lambda sgram, label: tensorflow.py_function(func=sgram_reshape,\n",
        "                                                                 inp=[sgram, label],\n",
        "                                                                 Tout=[tensorflow.float64, tensorflow.float64]),\n",
        "                                num_parallel_calls=tensorflow.data.AUTOTUNE)\n",
        "\n",
        "val_dataset=val_dataset.cache()\n",
        "val_dataset=val_dataset.batch(32)\n",
        "val_dataset=val_dataset.map(_fixup_shape)\n",
        "val_dataset=val_dataset.prefetch(tensorflow.data.AUTOTUNE)\n",
        "print(val_dataset)\n",
        "print(len(val_dataset))"
      ],
      "metadata": {
        "colab": {
          "base_uri": "https://localhost:8080/"
        },
        "id": "GsCStC8lDwdk",
        "outputId": "e8757d0b-6ed6-435d-c6da-be08cf6137d7"
      },
      "execution_count": null,
      "outputs": [
        {
          "output_type": "stream",
          "name": "stdout",
          "text": [
            "<_PrefetchDataset element_spec=(TensorSpec(shape=(None, 128, 400, 3), dtype=tf.float64, name=None), TensorSpec(shape=(None, 10), dtype=tf.float64, name=None))>\n",
            "44\n"
          ]
        }
      ]
    },
    {
      "cell_type": "code",
      "source": [
        "test_dataset=tensorflow.data.Dataset.from_tensor_slices((X_test.index))\n",
        "test_dataset=test_dataset.map(lambda i: tensorflow.py_function(func=audio_transform,\n",
        "                                                                 inp=[i],\n",
        "                                                                 Tout=[tensorflow.float64, tensorflow.float64]),\n",
        "                                num_parallel_calls=tensorflow.data.AUTOTUNE)\n",
        "test_dataset=test_dataset.map(lambda sgram, label: tensorflow.py_function(func=sgram_reshape,\n",
        "                                                                 inp=[sgram, label],\n",
        "                                                                 Tout=[tensorflow.float64, tensorflow.float64]),\n",
        "                                num_parallel_calls=tensorflow.data.AUTOTUNE)\n",
        "\n",
        "test_dataset=test_dataset.cache()\n",
        "test_dataset=test_dataset.batch(32)\n",
        "test_dataset=test_dataset.map(_fixup_shape)\n",
        "test_dataset=test_dataset.prefetch(tensorflow.data.AUTOTUNE)\n",
        "print(test_dataset)\n",
        "print(len(test_dataset))"
      ],
      "metadata": {
        "colab": {
          "base_uri": "https://localhost:8080/"
        },
        "id": "VGegwoQ8Dwp1",
        "outputId": "eb2fbd8f-21ab-4647-f308-60e9fc8d252d"
      },
      "execution_count": null,
      "outputs": [
        {
          "output_type": "stream",
          "name": "stdout",
          "text": [
            "<_PrefetchDataset element_spec=(TensorSpec(shape=(None, 128, 400, 3), dtype=tf.float64, name=None), TensorSpec(shape=(None, 10), dtype=tf.float64, name=None))>\n",
            "55\n"
          ]
        }
      ]
    },
    {
      "cell_type": "code",
      "source": [
        "for spec,label in val_dataset:\n",
        "  print(spec.shape)\n",
        "  print(label)\n",
        "  break"
      ],
      "metadata": {
        "colab": {
          "base_uri": "https://localhost:8080/"
        },
        "id": "VDgq8o9JETsE",
        "outputId": "9aa582e9-eb61-4e69-fce3-ea18b4feae82"
      },
      "execution_count": null,
      "outputs": [
        {
          "output_type": "stream",
          "name": "stdout",
          "text": [
            "(32, 128, 400, 3)\n",
            "tf.Tensor(\n",
            "[[0. 0. 1. 0. 0. 0. 0. 0. 0. 0.]\n",
            " [0. 0. 0. 0. 0. 0. 0. 0. 0. 1.]\n",
            " [0. 0. 1. 0. 0. 0. 0. 0. 0. 0.]\n",
            " [0. 0. 0. 1. 0. 0. 0. 0. 0. 0.]\n",
            " [0. 0. 0. 0. 0. 0. 0. 0. 1. 0.]\n",
            " [0. 0. 1. 0. 0. 0. 0. 0. 0. 0.]\n",
            " [1. 0. 0. 0. 0. 0. 0. 0. 0. 0.]\n",
            " [0. 0. 0. 0. 0. 0. 0. 0. 1. 0.]\n",
            " [0. 0. 0. 0. 0. 0. 0. 0. 0. 1.]\n",
            " [0. 0. 0. 1. 0. 0. 0. 0. 0. 0.]\n",
            " [0. 0. 0. 0. 0. 0. 0. 1. 0. 0.]\n",
            " [0. 0. 0. 0. 0. 0. 1. 0. 0. 0.]\n",
            " [0. 0. 0. 0. 0. 1. 0. 0. 0. 0.]\n",
            " [0. 0. 0. 1. 0. 0. 0. 0. 0. 0.]\n",
            " [0. 0. 0. 0. 0. 0. 0. 0. 1. 0.]\n",
            " [0. 0. 1. 0. 0. 0. 0. 0. 0. 0.]\n",
            " [0. 0. 0. 1. 0. 0. 0. 0. 0. 0.]\n",
            " [0. 0. 0. 0. 0. 0. 0. 1. 0. 0.]\n",
            " [0. 0. 1. 0. 0. 0. 0. 0. 0. 0.]\n",
            " [0. 0. 1. 0. 0. 0. 0. 0. 0. 0.]\n",
            " [0. 0. 0. 1. 0. 0. 0. 0. 0. 0.]\n",
            " [0. 1. 0. 0. 0. 0. 0. 0. 0. 0.]\n",
            " [0. 0. 0. 0. 0. 0. 0. 0. 1. 0.]\n",
            " [0. 0. 0. 0. 1. 0. 0. 0. 0. 0.]\n",
            " [1. 0. 0. 0. 0. 0. 0. 0. 0. 0.]\n",
            " [0. 1. 0. 0. 0. 0. 0. 0. 0. 0.]\n",
            " [0. 0. 0. 0. 1. 0. 0. 0. 0. 0.]\n",
            " [1. 0. 0. 0. 0. 0. 0. 0. 0. 0.]\n",
            " [0. 0. 0. 0. 1. 0. 0. 0. 0. 0.]\n",
            " [0. 0. 0. 1. 0. 0. 0. 0. 0. 0.]\n",
            " [1. 0. 0. 0. 0. 0. 0. 0. 0. 0.]\n",
            " [0. 0. 0. 0. 0. 0. 0. 0. 1. 0.]], shape=(32, 10), dtype=float64)\n"
          ]
        }
      ]
    },
    {
      "cell_type": "code",
      "source": [
        "from tensorflow import keras\n",
        "from tensorflow.keras import layers\n",
        "\n",
        "inputs=keras.Input(shape=(128,400,3))\n",
        "\n",
        "x = layers.Conv2D(filters=8, kernel_size=(3,3), activation=\"relu\")(inputs)\n",
        "x = layers.MaxPooling2D(pool_size=(2,2))(x)\n",
        "x = layers.Dropout(rate=0.3)(x)\n",
        "\n",
        "x = layers.Conv2D(filters=16, kernel_size=(3,3), activation=\"relu\")(x)\n",
        "x = layers.MaxPooling2D(pool_size=(2,2))(x)\n",
        "x = layers.Dropout(rate=0.3)(x)\n",
        "\n",
        "x = layers.Conv2D(filters=32, kernel_size=(3,3), activation=\"relu\")(x)\n",
        "x = layers.MaxPooling2D(pool_size=(2,2))(x)\n",
        "x = layers.Dropout(rate=0.3)(x)\n",
        "\n",
        "x = layers.Conv2D(filters=64, kernel_size=(3,3), activation=\"relu\")(x)\n",
        "x = layers.MaxPooling2D(pool_size=(2,2))(x)\n",
        "x = layers.Dropout(rate=0.3)(x)\n",
        "\n",
        "x = layers.Flatten()(x)\n",
        "\n",
        "x = layers.Dense(64, activation=\"relu\")(x)\n",
        "x = layers.Dropout(rate=0.3)(x)\n",
        "\n",
        "x = layers.Dense(32, activation=\"relu\")(x)\n",
        "\n",
        "x=layers.Dense(16, activation=\"relu\")(x)\n",
        "\n",
        "outputs = layers.Dense(10, activation=\"softmax\")(x)\n",
        "\n",
        "model = keras.Model(inputs=inputs, outputs=outputs)\n"
      ],
      "metadata": {
        "id": "zb0etgq1EUE8"
      },
      "execution_count": null,
      "outputs": []
    },
    {
      "cell_type": "code",
      "source": [
        "model.summary()"
      ],
      "metadata": {
        "colab": {
          "base_uri": "https://localhost:8080/"
        },
        "id": "t7Ob-y9JEUgT",
        "outputId": "52ec3946-faf1-44da-9bdf-302cb8fba90a"
      },
      "execution_count": null,
      "outputs": [
        {
          "output_type": "stream",
          "name": "stdout",
          "text": [
            "Model: \"model_3\"\n",
            "_________________________________________________________________\n",
            " Layer (type)                Output Shape              Param #   \n",
            "=================================================================\n",
            " input_4 (InputLayer)        [(None, 128, 400, 3)]     0         \n",
            "                                                                 \n",
            " conv2d_12 (Conv2D)          (None, 126, 398, 8)       224       \n",
            "                                                                 \n",
            " max_pooling2d_12 (MaxPoolin  (None, 63, 199, 8)       0         \n",
            " g2D)                                                            \n",
            "                                                                 \n",
            " dropout_15 (Dropout)        (None, 63, 199, 8)        0         \n",
            "                                                                 \n",
            " conv2d_13 (Conv2D)          (None, 61, 197, 16)       1168      \n",
            "                                                                 \n",
            " max_pooling2d_13 (MaxPoolin  (None, 30, 98, 16)       0         \n",
            " g2D)                                                            \n",
            "                                                                 \n",
            " dropout_16 (Dropout)        (None, 30, 98, 16)        0         \n",
            "                                                                 \n",
            " conv2d_14 (Conv2D)          (None, 28, 96, 32)        4640      \n",
            "                                                                 \n",
            " max_pooling2d_14 (MaxPoolin  (None, 14, 48, 32)       0         \n",
            " g2D)                                                            \n",
            "                                                                 \n",
            " dropout_17 (Dropout)        (None, 14, 48, 32)        0         \n",
            "                                                                 \n",
            " conv2d_15 (Conv2D)          (None, 12, 46, 64)        18496     \n",
            "                                                                 \n",
            " max_pooling2d_15 (MaxPoolin  (None, 6, 23, 64)        0         \n",
            " g2D)                                                            \n",
            "                                                                 \n",
            " dropout_18 (Dropout)        (None, 6, 23, 64)         0         \n",
            "                                                                 \n",
            " flatten_3 (Flatten)         (None, 8832)              0         \n",
            "                                                                 \n",
            " dense_12 (Dense)            (None, 64)                565312    \n",
            "                                                                 \n",
            " dropout_19 (Dropout)        (None, 64)                0         \n",
            "                                                                 \n",
            " dense_13 (Dense)            (None, 32)                2080      \n",
            "                                                                 \n",
            " dense_14 (Dense)            (None, 16)                528       \n",
            "                                                                 \n",
            " dense_15 (Dense)            (None, 10)                170       \n",
            "                                                                 \n",
            "=================================================================\n",
            "Total params: 592,618\n",
            "Trainable params: 592,618\n",
            "Non-trainable params: 0\n",
            "_________________________________________________________________\n"
          ]
        }
      ]
    },
    {
      "cell_type": "code",
      "source": [
        "model.compile(optimizer='adam',\n",
        "              loss=\"categorical_crossentropy\",\n",
        "              metrics=[\"accuracy\"])"
      ],
      "metadata": {
        "id": "VDaQRBe5KCzH"
      },
      "execution_count": null,
      "outputs": []
    },
    {
      "cell_type": "code",
      "source": [
        "custom_optimizer = tensorflow.optimizers.AdamW(learning_rate=1e-4, weight_decay=1e-3)\n",
        "model.compile(optimizer=custom_optimizer,\n",
        "              loss=\"categorical_crossentropy\",\n",
        "              metrics=[\"accuracy\"])"
      ],
      "metadata": {
        "id": "KdWX0SeiEU4r"
      },
      "execution_count": null,
      "outputs": []
    },
    {
      "cell_type": "code",
      "source": [
        "history=model.fit(train_dataset, epochs=200, batch_size=32, validation_data=val_dataset)"
      ],
      "metadata": {
        "colab": {
          "base_uri": "https://localhost:8080/"
        },
        "id": "nNOKH4P2E59B",
        "outputId": "8822d3ad-a76a-4ddd-e0f5-17eadb481217"
      },
      "execution_count": null,
      "outputs": [
        {
          "output_type": "stream",
          "name": "stdout",
          "text": [
            "Epoch 1/200\n",
            "175/175 [==============================] - 6s 20ms/step - loss: 2.9557 - accuracy: 0.1305 - val_loss: 2.2616 - val_accuracy: 0.1696\n",
            "Epoch 2/200\n",
            "175/175 [==============================] - 3s 19ms/step - loss: 2.1588 - accuracy: 0.1747 - val_loss: 2.2017 - val_accuracy: 0.1739\n",
            "Epoch 3/200\n",
            "175/175 [==============================] - 3s 19ms/step - loss: 2.0815 - accuracy: 0.2022 - val_loss: 2.2027 - val_accuracy: 0.1374\n",
            "Epoch 4/200\n",
            "175/175 [==============================] - 3s 19ms/step - loss: 2.0272 - accuracy: 0.2171 - val_loss: 2.1523 - val_accuracy: 0.1961\n",
            "Epoch 5/200\n",
            "175/175 [==============================] - 3s 19ms/step - loss: 1.9825 - accuracy: 0.2436 - val_loss: 2.1042 - val_accuracy: 0.2105\n",
            "Epoch 6/200\n",
            "175/175 [==============================] - 3s 19ms/step - loss: 1.9251 - accuracy: 0.2616 - val_loss: 1.9527 - val_accuracy: 0.3178\n",
            "Epoch 7/200\n",
            "175/175 [==============================] - 3s 19ms/step - loss: 1.8672 - accuracy: 0.2768 - val_loss: 1.8922 - val_accuracy: 0.3293\n",
            "Epoch 8/200\n",
            "175/175 [==============================] - 3s 19ms/step - loss: 1.7904 - accuracy: 0.3150 - val_loss: 1.7972 - val_accuracy: 0.3686\n",
            "Epoch 9/200\n",
            "175/175 [==============================] - 3s 19ms/step - loss: 1.7190 - accuracy: 0.3499 - val_loss: 1.7263 - val_accuracy: 0.3794\n",
            "Epoch 10/200\n",
            "175/175 [==============================] - 3s 19ms/step - loss: 1.6660 - accuracy: 0.3635 - val_loss: 1.7478 - val_accuracy: 0.4252\n",
            "Epoch 11/200\n",
            "175/175 [==============================] - 3s 19ms/step - loss: 1.6163 - accuracy: 0.3860 - val_loss: 1.6527 - val_accuracy: 0.4094\n",
            "Epoch 12/200\n",
            "175/175 [==============================] - 3s 19ms/step - loss: 1.5892 - accuracy: 0.3914 - val_loss: 1.6135 - val_accuracy: 0.4324\n",
            "Epoch 13/200\n",
            "175/175 [==============================] - 3s 19ms/step - loss: 1.5210 - accuracy: 0.4161 - val_loss: 1.5221 - val_accuracy: 0.4717\n",
            "Epoch 14/200\n",
            "175/175 [==============================] - 3s 19ms/step - loss: 1.4870 - accuracy: 0.4409 - val_loss: 1.4695 - val_accuracy: 0.5039\n",
            "Epoch 15/200\n",
            "175/175 [==============================] - 3s 19ms/step - loss: 1.4308 - accuracy: 0.4647 - val_loss: 1.4907 - val_accuracy: 0.5039\n",
            "Epoch 16/200\n",
            "175/175 [==============================] - 3s 18ms/step - loss: 1.3888 - accuracy: 0.4860 - val_loss: 1.4141 - val_accuracy: 0.5634\n",
            "Epoch 17/200\n",
            "175/175 [==============================] - 3s 19ms/step - loss: 1.3389 - accuracy: 0.5143 - val_loss: 1.3698 - val_accuracy: 0.5748\n",
            "Epoch 18/200\n",
            "175/175 [==============================] - 3s 19ms/step - loss: 1.2629 - accuracy: 0.5399 - val_loss: 1.2596 - val_accuracy: 0.6120\n",
            "Epoch 19/200\n",
            "175/175 [==============================] - 3s 19ms/step - loss: 1.2630 - accuracy: 0.5451 - val_loss: 1.3022 - val_accuracy: 0.6056\n",
            "Epoch 20/200\n",
            "175/175 [==============================] - 3s 19ms/step - loss: 1.2311 - accuracy: 0.5542 - val_loss: 1.2328 - val_accuracy: 0.6135\n",
            "Epoch 21/200\n",
            "175/175 [==============================] - 3s 18ms/step - loss: 1.2054 - accuracy: 0.5571 - val_loss: 1.2249 - val_accuracy: 0.5999\n",
            "Epoch 22/200\n",
            "175/175 [==============================] - 3s 19ms/step - loss: 1.1596 - accuracy: 0.5811 - val_loss: 1.1620 - val_accuracy: 0.6342\n",
            "Epoch 23/200\n",
            "175/175 [==============================] - 3s 19ms/step - loss: 1.1280 - accuracy: 0.5922 - val_loss: 1.1394 - val_accuracy: 0.6328\n",
            "Epoch 24/200\n",
            "175/175 [==============================] - 3s 18ms/step - loss: 1.1166 - accuracy: 0.6016 - val_loss: 1.1333 - val_accuracy: 0.6299\n",
            "Epoch 25/200\n",
            "175/175 [==============================] - 3s 19ms/step - loss: 1.0521 - accuracy: 0.6213 - val_loss: 1.0943 - val_accuracy: 0.6435\n",
            "Epoch 26/200\n",
            "175/175 [==============================] - 3s 19ms/step - loss: 1.0661 - accuracy: 0.6176 - val_loss: 1.1975 - val_accuracy: 0.5877\n",
            "Epoch 27/200\n",
            "175/175 [==============================] - 3s 19ms/step - loss: 1.0430 - accuracy: 0.6240 - val_loss: 1.0864 - val_accuracy: 0.6392\n",
            "Epoch 28/200\n",
            "175/175 [==============================] - 3s 18ms/step - loss: 1.0053 - accuracy: 0.6521 - val_loss: 1.1193 - val_accuracy: 0.6421\n",
            "Epoch 29/200\n",
            "175/175 [==============================] - 3s 19ms/step - loss: 0.9669 - accuracy: 0.6664 - val_loss: 1.0424 - val_accuracy: 0.6686\n",
            "Epoch 30/200\n",
            "175/175 [==============================] - 3s 19ms/step - loss: 0.9527 - accuracy: 0.6696 - val_loss: 1.0211 - val_accuracy: 0.6879\n",
            "Epoch 31/200\n",
            "175/175 [==============================] - 3s 19ms/step - loss: 0.9225 - accuracy: 0.6768 - val_loss: 1.0491 - val_accuracy: 0.6557\n",
            "Epoch 32/200\n",
            "175/175 [==============================] - 3s 19ms/step - loss: 0.8960 - accuracy: 0.6865 - val_loss: 1.0007 - val_accuracy: 0.6757\n",
            "Epoch 33/200\n",
            "175/175 [==============================] - 3s 19ms/step - loss: 0.8732 - accuracy: 0.6981 - val_loss: 1.0256 - val_accuracy: 0.6657\n",
            "Epoch 34/200\n",
            "175/175 [==============================] - 3s 19ms/step - loss: 0.8597 - accuracy: 0.7011 - val_loss: 0.9795 - val_accuracy: 0.6779\n",
            "Epoch 35/200\n",
            "175/175 [==============================] - 3s 19ms/step - loss: 0.8225 - accuracy: 0.7169 - val_loss: 0.9283 - val_accuracy: 0.6994\n",
            "Epoch 36/200\n",
            "175/175 [==============================] - 3s 19ms/step - loss: 0.7826 - accuracy: 0.7303 - val_loss: 0.9122 - val_accuracy: 0.7194\n",
            "Epoch 37/200\n",
            "175/175 [==============================] - 3s 19ms/step - loss: 0.8056 - accuracy: 0.7239 - val_loss: 0.9682 - val_accuracy: 0.6786\n",
            "Epoch 38/200\n",
            "175/175 [==============================] - 3s 19ms/step - loss: 0.7599 - accuracy: 0.7348 - val_loss: 0.9028 - val_accuracy: 0.6979\n",
            "Epoch 39/200\n",
            "175/175 [==============================] - 3s 19ms/step - loss: 0.7474 - accuracy: 0.7473 - val_loss: 0.9653 - val_accuracy: 0.6757\n",
            "Epoch 40/200\n",
            "175/175 [==============================] - 3s 18ms/step - loss: 0.7302 - accuracy: 0.7471 - val_loss: 0.8922 - val_accuracy: 0.6986\n",
            "Epoch 41/200\n",
            "175/175 [==============================] - 3s 19ms/step - loss: 0.7299 - accuracy: 0.7545 - val_loss: 0.8737 - val_accuracy: 0.7151\n",
            "Epoch 42/200\n",
            "175/175 [==============================] - 3s 19ms/step - loss: 0.6951 - accuracy: 0.7611 - val_loss: 0.8845 - val_accuracy: 0.7072\n",
            "Epoch 43/200\n",
            "175/175 [==============================] - 3s 19ms/step - loss: 0.6945 - accuracy: 0.7622 - val_loss: 0.8353 - val_accuracy: 0.7280\n",
            "Epoch 44/200\n",
            "175/175 [==============================] - 3s 19ms/step - loss: 0.6684 - accuracy: 0.7650 - val_loss: 0.8317 - val_accuracy: 0.7359\n",
            "Epoch 45/200\n",
            "175/175 [==============================] - 3s 19ms/step - loss: 0.7010 - accuracy: 0.7631 - val_loss: 0.9498 - val_accuracy: 0.6764\n",
            "Epoch 46/200\n",
            "175/175 [==============================] - 3s 18ms/step - loss: 0.6611 - accuracy: 0.7729 - val_loss: 0.8277 - val_accuracy: 0.7323\n",
            "Epoch 47/200\n",
            "175/175 [==============================] - 3s 18ms/step - loss: 0.6570 - accuracy: 0.7806 - val_loss: 0.8896 - val_accuracy: 0.7072\n",
            "Epoch 48/200\n",
            "175/175 [==============================] - 3s 19ms/step - loss: 0.6042 - accuracy: 0.8037 - val_loss: 0.8530 - val_accuracy: 0.7144\n",
            "Epoch 49/200\n",
            "175/175 [==============================] - 3s 19ms/step - loss: 0.6350 - accuracy: 0.7858 - val_loss: 0.8203 - val_accuracy: 0.7280\n",
            "Epoch 50/200\n",
            "175/175 [==============================] - 3s 19ms/step - loss: 0.6148 - accuracy: 0.7980 - val_loss: 0.7725 - val_accuracy: 0.7459\n",
            "Epoch 51/200\n",
            "175/175 [==============================] - 3s 18ms/step - loss: 0.5975 - accuracy: 0.7953 - val_loss: 0.8790 - val_accuracy: 0.7115\n",
            "Epoch 52/200\n",
            "175/175 [==============================] - 3s 19ms/step - loss: 0.5600 - accuracy: 0.8096 - val_loss: 0.8385 - val_accuracy: 0.7201\n",
            "Epoch 53/200\n",
            "175/175 [==============================] - 3s 19ms/step - loss: 0.5724 - accuracy: 0.8137 - val_loss: 0.8399 - val_accuracy: 0.7301\n",
            "Epoch 54/200\n",
            "175/175 [==============================] - 3s 19ms/step - loss: 0.5321 - accuracy: 0.8182 - val_loss: 0.8155 - val_accuracy: 0.7373\n",
            "Epoch 55/200\n",
            "175/175 [==============================] - 3s 19ms/step - loss: 0.5386 - accuracy: 0.8189 - val_loss: 0.7895 - val_accuracy: 0.7437\n",
            "Epoch 56/200\n",
            "175/175 [==============================] - 3s 19ms/step - loss: 0.5413 - accuracy: 0.8198 - val_loss: 0.7945 - val_accuracy: 0.7445\n",
            "Epoch 57/200\n",
            "175/175 [==============================] - 3s 19ms/step - loss: 0.5435 - accuracy: 0.8116 - val_loss: 0.7532 - val_accuracy: 0.7538\n",
            "Epoch 58/200\n",
            "175/175 [==============================] - 3s 19ms/step - loss: 0.5205 - accuracy: 0.8304 - val_loss: 0.8346 - val_accuracy: 0.7237\n",
            "Epoch 59/200\n",
            "175/175 [==============================] - 3s 18ms/step - loss: 0.5138 - accuracy: 0.8314 - val_loss: 0.7758 - val_accuracy: 0.7452\n",
            "Epoch 60/200\n",
            "175/175 [==============================] - 3s 19ms/step - loss: 0.4861 - accuracy: 0.8375 - val_loss: 0.7858 - val_accuracy: 0.7344\n",
            "Epoch 61/200\n",
            "175/175 [==============================] - 3s 19ms/step - loss: 0.4783 - accuracy: 0.8361 - val_loss: 0.7276 - val_accuracy: 0.7581\n",
            "Epoch 62/200\n",
            "175/175 [==============================] - 3s 19ms/step - loss: 0.5050 - accuracy: 0.8346 - val_loss: 0.8758 - val_accuracy: 0.7072\n",
            "Epoch 63/200\n",
            "175/175 [==============================] - 3s 19ms/step - loss: 0.4918 - accuracy: 0.8375 - val_loss: 0.8222 - val_accuracy: 0.7223\n",
            "Epoch 64/200\n",
            "175/175 [==============================] - 3s 19ms/step - loss: 0.4435 - accuracy: 0.8545 - val_loss: 0.7936 - val_accuracy: 0.7416\n",
            "Epoch 65/200\n",
            "175/175 [==============================] - 3s 18ms/step - loss: 0.4708 - accuracy: 0.8447 - val_loss: 0.7817 - val_accuracy: 0.7409\n",
            "Epoch 66/200\n",
            "175/175 [==============================] - 3s 19ms/step - loss: 0.4758 - accuracy: 0.8350 - val_loss: 0.7628 - val_accuracy: 0.7430\n",
            "Epoch 67/200\n",
            "175/175 [==============================] - 3s 19ms/step - loss: 0.4392 - accuracy: 0.8509 - val_loss: 0.7936 - val_accuracy: 0.7402\n",
            "Epoch 68/200\n",
            "175/175 [==============================] - 3s 19ms/step - loss: 0.4567 - accuracy: 0.8470 - val_loss: 0.7606 - val_accuracy: 0.7495\n",
            "Epoch 69/200\n",
            "175/175 [==============================] - 3s 19ms/step - loss: 0.4447 - accuracy: 0.8527 - val_loss: 0.7926 - val_accuracy: 0.7445\n",
            "Epoch 70/200\n",
            "175/175 [==============================] - 3s 19ms/step - loss: 0.4811 - accuracy: 0.8427 - val_loss: 0.7889 - val_accuracy: 0.7459\n",
            "Epoch 71/200\n",
            "175/175 [==============================] - 3s 19ms/step - loss: 0.4211 - accuracy: 0.8599 - val_loss: 0.8306 - val_accuracy: 0.7445\n",
            "Epoch 72/200\n",
            "175/175 [==============================] - 3s 19ms/step - loss: 0.4393 - accuracy: 0.8502 - val_loss: 0.7679 - val_accuracy: 0.7445\n",
            "Epoch 73/200\n",
            "175/175 [==============================] - 3s 19ms/step - loss: 0.4058 - accuracy: 0.8627 - val_loss: 0.7608 - val_accuracy: 0.7523\n",
            "Epoch 74/200\n",
            "175/175 [==============================] - 3s 19ms/step - loss: 0.4052 - accuracy: 0.8674 - val_loss: 0.8299 - val_accuracy: 0.7287\n",
            "Epoch 75/200\n",
            "175/175 [==============================] - 3s 19ms/step - loss: 0.3906 - accuracy: 0.8674 - val_loss: 0.7142 - val_accuracy: 0.7674\n",
            "Epoch 76/200\n",
            "175/175 [==============================] - 3s 19ms/step - loss: 0.3982 - accuracy: 0.8663 - val_loss: 0.7570 - val_accuracy: 0.7588\n",
            "Epoch 77/200\n",
            "175/175 [==============================] - 3s 18ms/step - loss: 0.3862 - accuracy: 0.8690 - val_loss: 0.7570 - val_accuracy: 0.7423\n",
            "Epoch 78/200\n",
            "175/175 [==============================] - 3s 19ms/step - loss: 0.4255 - accuracy: 0.8572 - val_loss: 0.7692 - val_accuracy: 0.7495\n",
            "Epoch 79/200\n",
            "175/175 [==============================] - 3s 19ms/step - loss: 0.4063 - accuracy: 0.8658 - val_loss: 0.7780 - val_accuracy: 0.7545\n",
            "Epoch 80/200\n",
            "175/175 [==============================] - 3s 19ms/step - loss: 0.4089 - accuracy: 0.8669 - val_loss: 0.8407 - val_accuracy: 0.7344\n",
            "Epoch 81/200\n",
            "175/175 [==============================] - 3s 18ms/step - loss: 0.4035 - accuracy: 0.8651 - val_loss: 0.7525 - val_accuracy: 0.7545\n",
            "Epoch 82/200\n",
            "175/175 [==============================] - 3s 19ms/step - loss: 0.4128 - accuracy: 0.8663 - val_loss: 0.7196 - val_accuracy: 0.7666\n",
            "Epoch 83/200\n",
            "175/175 [==============================] - 3s 19ms/step - loss: 0.3962 - accuracy: 0.8683 - val_loss: 0.7896 - val_accuracy: 0.7402\n",
            "Epoch 84/200\n",
            "175/175 [==============================] - 3s 18ms/step - loss: 0.3832 - accuracy: 0.8754 - val_loss: 0.8073 - val_accuracy: 0.7516\n",
            "Epoch 85/200\n",
            "175/175 [==============================] - 3s 19ms/step - loss: 0.4056 - accuracy: 0.8652 - val_loss: 0.7590 - val_accuracy: 0.7616\n",
            "Epoch 86/200\n",
            "175/175 [==============================] - 3s 19ms/step - loss: 0.3882 - accuracy: 0.8733 - val_loss: 0.6829 - val_accuracy: 0.7881\n",
            "Epoch 87/200\n",
            "175/175 [==============================] - 3s 19ms/step - loss: 0.3638 - accuracy: 0.8835 - val_loss: 0.7222 - val_accuracy: 0.7645\n",
            "Epoch 88/200\n",
            "175/175 [==============================] - 3s 19ms/step - loss: 0.3495 - accuracy: 0.8860 - val_loss: 0.7759 - val_accuracy: 0.7602\n",
            "Epoch 89/200\n",
            "175/175 [==============================] - 3s 18ms/step - loss: 0.3658 - accuracy: 0.8821 - val_loss: 0.8509 - val_accuracy: 0.7437\n",
            "Epoch 90/200\n",
            "175/175 [==============================] - 3s 19ms/step - loss: 0.3914 - accuracy: 0.8719 - val_loss: 0.8296 - val_accuracy: 0.7266\n",
            "Epoch 91/200\n",
            "175/175 [==============================] - 3s 19ms/step - loss: 0.3503 - accuracy: 0.8794 - val_loss: 0.7701 - val_accuracy: 0.7659\n",
            "Epoch 92/200\n",
            "175/175 [==============================] - 3s 19ms/step - loss: 0.3681 - accuracy: 0.8796 - val_loss: 0.7446 - val_accuracy: 0.7616\n",
            "Epoch 93/200\n",
            "175/175 [==============================] - 3s 19ms/step - loss: 0.3587 - accuracy: 0.8817 - val_loss: 0.8008 - val_accuracy: 0.7380\n",
            "Epoch 94/200\n",
            "175/175 [==============================] - 3s 19ms/step - loss: 0.3674 - accuracy: 0.8767 - val_loss: 0.8111 - val_accuracy: 0.7423\n",
            "Epoch 95/200\n",
            "175/175 [==============================] - 3s 19ms/step - loss: 0.3358 - accuracy: 0.8905 - val_loss: 0.7302 - val_accuracy: 0.7681\n",
            "Epoch 96/200\n",
            "175/175 [==============================] - 3s 19ms/step - loss: 0.3536 - accuracy: 0.8865 - val_loss: 0.7420 - val_accuracy: 0.7688\n",
            "Epoch 97/200\n",
            "175/175 [==============================] - 3s 19ms/step - loss: 0.3205 - accuracy: 0.8951 - val_loss: 0.7236 - val_accuracy: 0.7767\n",
            "Epoch 98/200\n",
            "175/175 [==============================] - 3s 19ms/step - loss: 0.3422 - accuracy: 0.8876 - val_loss: 0.7828 - val_accuracy: 0.7595\n",
            "Epoch 99/200\n",
            "175/175 [==============================] - 3s 19ms/step - loss: 0.3381 - accuracy: 0.8912 - val_loss: 0.7879 - val_accuracy: 0.7495\n",
            "Epoch 100/200\n",
            "175/175 [==============================] - 3s 19ms/step - loss: 0.3440 - accuracy: 0.8846 - val_loss: 0.6966 - val_accuracy: 0.7795\n",
            "Epoch 101/200\n",
            "175/175 [==============================] - 3s 19ms/step - loss: 0.3315 - accuracy: 0.8944 - val_loss: 0.7065 - val_accuracy: 0.7738\n",
            "Epoch 102/200\n",
            "175/175 [==============================] - 3s 19ms/step - loss: 0.3273 - accuracy: 0.8917 - val_loss: 0.7770 - val_accuracy: 0.7509\n",
            "Epoch 103/200\n",
            "175/175 [==============================] - 3s 19ms/step - loss: 0.3534 - accuracy: 0.8846 - val_loss: 0.8768 - val_accuracy: 0.7344\n",
            "Epoch 104/200\n",
            "175/175 [==============================] - 3s 19ms/step - loss: 0.3286 - accuracy: 0.8892 - val_loss: 0.8033 - val_accuracy: 0.7423\n",
            "Epoch 105/200\n",
            "175/175 [==============================] - 3s 19ms/step - loss: 0.3374 - accuracy: 0.8842 - val_loss: 0.7743 - val_accuracy: 0.7652\n",
            "Epoch 106/200\n",
            "175/175 [==============================] - 3s 19ms/step - loss: 0.3077 - accuracy: 0.8992 - val_loss: 0.7370 - val_accuracy: 0.7688\n",
            "Epoch 107/200\n",
            "175/175 [==============================] - 3s 19ms/step - loss: 0.3013 - accuracy: 0.9046 - val_loss: 0.8501 - val_accuracy: 0.7380\n",
            "Epoch 108/200\n",
            "175/175 [==============================] - 3s 18ms/step - loss: 0.3547 - accuracy: 0.8842 - val_loss: 0.7404 - val_accuracy: 0.7702\n",
            "Epoch 109/200\n",
            "175/175 [==============================] - 3s 19ms/step - loss: 0.3147 - accuracy: 0.8967 - val_loss: 0.8801 - val_accuracy: 0.7330\n",
            "Epoch 110/200\n",
            "175/175 [==============================] - 3s 19ms/step - loss: 0.3486 - accuracy: 0.8903 - val_loss: 0.7089 - val_accuracy: 0.7738\n",
            "Epoch 111/200\n",
            "175/175 [==============================] - 3s 18ms/step - loss: 0.3213 - accuracy: 0.8933 - val_loss: 0.8203 - val_accuracy: 0.7595\n",
            "Epoch 112/200\n",
            "175/175 [==============================] - 3s 19ms/step - loss: 0.3042 - accuracy: 0.9019 - val_loss: 0.7574 - val_accuracy: 0.7581\n",
            "Epoch 113/200\n",
            "175/175 [==============================] - 3s 19ms/step - loss: 0.3170 - accuracy: 0.8973 - val_loss: 0.7304 - val_accuracy: 0.7702\n",
            "Epoch 114/200\n",
            "175/175 [==============================] - 3s 19ms/step - loss: 0.3059 - accuracy: 0.8985 - val_loss: 0.7744 - val_accuracy: 0.7681\n",
            "Epoch 115/200\n",
            "175/175 [==============================] - 3s 19ms/step - loss: 0.2837 - accuracy: 0.9048 - val_loss: 0.8653 - val_accuracy: 0.7316\n",
            "Epoch 116/200\n",
            "175/175 [==============================] - 3s 19ms/step - loss: 0.3204 - accuracy: 0.8946 - val_loss: 0.7774 - val_accuracy: 0.7516\n",
            "Epoch 117/200\n",
            "175/175 [==============================] - 3s 19ms/step - loss: 0.2863 - accuracy: 0.9050 - val_loss: 0.7176 - val_accuracy: 0.7824\n",
            "Epoch 118/200\n",
            "175/175 [==============================] - 3s 19ms/step - loss: 0.2977 - accuracy: 0.9055 - val_loss: 0.7346 - val_accuracy: 0.7817\n",
            "Epoch 119/200\n",
            "175/175 [==============================] - 3s 19ms/step - loss: 0.3024 - accuracy: 0.9016 - val_loss: 0.7135 - val_accuracy: 0.7752\n",
            "Epoch 120/200\n",
            "175/175 [==============================] - 3s 19ms/step - loss: 0.3176 - accuracy: 0.8917 - val_loss: 0.7795 - val_accuracy: 0.7538\n",
            "Epoch 121/200\n",
            "175/175 [==============================] - 3s 19ms/step - loss: 0.3019 - accuracy: 0.8994 - val_loss: 0.6737 - val_accuracy: 0.7931\n",
            "Epoch 122/200\n",
            "175/175 [==============================] - 3s 19ms/step - loss: 0.3253 - accuracy: 0.8958 - val_loss: 0.7089 - val_accuracy: 0.7895\n",
            "Epoch 123/200\n",
            "175/175 [==============================] - 3s 19ms/step - loss: 0.2839 - accuracy: 0.9062 - val_loss: 0.7782 - val_accuracy: 0.7681\n",
            "Epoch 124/200\n",
            "175/175 [==============================] - 3s 19ms/step - loss: 0.2906 - accuracy: 0.9100 - val_loss: 0.7822 - val_accuracy: 0.7631\n",
            "Epoch 125/200\n",
            "175/175 [==============================] - 3s 19ms/step - loss: 0.3008 - accuracy: 0.9016 - val_loss: 0.7475 - val_accuracy: 0.7738\n",
            "Epoch 126/200\n",
            "175/175 [==============================] - 3s 19ms/step - loss: 0.2859 - accuracy: 0.9044 - val_loss: 0.7540 - val_accuracy: 0.7666\n",
            "Epoch 127/200\n",
            "175/175 [==============================] - 3s 19ms/step - loss: 0.2836 - accuracy: 0.9064 - val_loss: 0.6941 - val_accuracy: 0.7831\n",
            "Epoch 128/200\n",
            "175/175 [==============================] - 3s 19ms/step - loss: 0.3071 - accuracy: 0.9034 - val_loss: 0.7765 - val_accuracy: 0.7538\n",
            "Epoch 129/200\n",
            "175/175 [==============================] - 3s 19ms/step - loss: 0.2596 - accuracy: 0.9152 - val_loss: 0.7645 - val_accuracy: 0.7645\n",
            "Epoch 130/200\n",
            "175/175 [==============================] - 3s 19ms/step - loss: 0.3015 - accuracy: 0.9032 - val_loss: 0.7484 - val_accuracy: 0.7588\n",
            "Epoch 131/200\n",
            "175/175 [==============================] - 3s 19ms/step - loss: 0.2683 - accuracy: 0.9136 - val_loss: 0.7121 - val_accuracy: 0.7845\n",
            "Epoch 132/200\n",
            "175/175 [==============================] - 3s 19ms/step - loss: 0.2884 - accuracy: 0.9077 - val_loss: 0.7323 - val_accuracy: 0.7867\n",
            "Epoch 133/200\n",
            "175/175 [==============================] - 3s 19ms/step - loss: 0.2692 - accuracy: 0.9159 - val_loss: 0.7947 - val_accuracy: 0.7666\n",
            "Epoch 134/200\n",
            "175/175 [==============================] - 3s 19ms/step - loss: 0.2701 - accuracy: 0.9137 - val_loss: 0.7262 - val_accuracy: 0.7774\n",
            "Epoch 135/200\n",
            "175/175 [==============================] - 3s 19ms/step - loss: 0.2759 - accuracy: 0.9080 - val_loss: 0.7847 - val_accuracy: 0.7459\n",
            "Epoch 136/200\n",
            "175/175 [==============================] - 3s 19ms/step - loss: 0.2853 - accuracy: 0.9046 - val_loss: 0.7074 - val_accuracy: 0.7874\n",
            "Epoch 137/200\n",
            "175/175 [==============================] - 3s 19ms/step - loss: 0.2549 - accuracy: 0.9170 - val_loss: 0.7029 - val_accuracy: 0.7931\n",
            "Epoch 138/200\n",
            "175/175 [==============================] - 3s 19ms/step - loss: 0.2432 - accuracy: 0.9211 - val_loss: 0.7409 - val_accuracy: 0.7788\n",
            "Epoch 139/200\n",
            "175/175 [==============================] - 3s 19ms/step - loss: 0.2896 - accuracy: 0.9071 - val_loss: 0.8749 - val_accuracy: 0.7366\n",
            "Epoch 140/200\n",
            "175/175 [==============================] - 3s 19ms/step - loss: 0.2651 - accuracy: 0.9121 - val_loss: 0.7052 - val_accuracy: 0.7867\n",
            "Epoch 141/200\n",
            "175/175 [==============================] - 3s 19ms/step - loss: 0.2618 - accuracy: 0.9145 - val_loss: 0.7044 - val_accuracy: 0.7867\n",
            "Epoch 142/200\n",
            "175/175 [==============================] - 3s 19ms/step - loss: 0.2633 - accuracy: 0.9173 - val_loss: 0.7120 - val_accuracy: 0.7860\n",
            "Epoch 143/200\n",
            "175/175 [==============================] - 3s 19ms/step - loss: 0.2536 - accuracy: 0.9196 - val_loss: 0.7028 - val_accuracy: 0.7910\n",
            "Epoch 144/200\n",
            "175/175 [==============================] - 3s 19ms/step - loss: 0.2648 - accuracy: 0.9134 - val_loss: 0.7141 - val_accuracy: 0.7895\n",
            "Epoch 145/200\n",
            "175/175 [==============================] - 3s 19ms/step - loss: 0.2742 - accuracy: 0.9152 - val_loss: 0.7303 - val_accuracy: 0.7774\n",
            "Epoch 146/200\n",
            "175/175 [==============================] - 3s 19ms/step - loss: 0.2600 - accuracy: 0.9186 - val_loss: 0.8484 - val_accuracy: 0.7573\n",
            "Epoch 147/200\n",
            "175/175 [==============================] - 3s 19ms/step - loss: 0.2851 - accuracy: 0.9103 - val_loss: 0.7275 - val_accuracy: 0.7924\n",
            "Epoch 148/200\n",
            "175/175 [==============================] - 3s 19ms/step - loss: 0.2552 - accuracy: 0.9193 - val_loss: 0.7882 - val_accuracy: 0.7688\n",
            "Epoch 149/200\n",
            "175/175 [==============================] - 3s 19ms/step - loss: 0.2592 - accuracy: 0.9155 - val_loss: 0.8469 - val_accuracy: 0.7566\n",
            "Epoch 150/200\n",
            "175/175 [==============================] - 3s 19ms/step - loss: 0.2544 - accuracy: 0.9204 - val_loss: 0.8677 - val_accuracy: 0.7559\n",
            "Epoch 151/200\n",
            "175/175 [==============================] - 3s 19ms/step - loss: 0.2452 - accuracy: 0.9236 - val_loss: 0.8014 - val_accuracy: 0.7731\n",
            "Epoch 152/200\n",
            "175/175 [==============================] - 3s 19ms/step - loss: 0.2572 - accuracy: 0.9171 - val_loss: 0.7367 - val_accuracy: 0.7781\n",
            "Epoch 153/200\n",
            "175/175 [==============================] - 3s 19ms/step - loss: 0.2578 - accuracy: 0.9177 - val_loss: 0.6782 - val_accuracy: 0.7953\n",
            "Epoch 154/200\n",
            "175/175 [==============================] - 3s 19ms/step - loss: 0.2770 - accuracy: 0.9089 - val_loss: 0.7160 - val_accuracy: 0.7881\n",
            "Epoch 155/200\n",
            "175/175 [==============================] - 3s 19ms/step - loss: 0.2386 - accuracy: 0.9229 - val_loss: 0.7540 - val_accuracy: 0.7652\n",
            "Epoch 156/200\n",
            "175/175 [==============================] - 3s 19ms/step - loss: 0.2314 - accuracy: 0.9222 - val_loss: 0.7622 - val_accuracy: 0.7838\n",
            "Epoch 157/200\n",
            "175/175 [==============================] - 3s 19ms/step - loss: 0.2554 - accuracy: 0.9175 - val_loss: 0.7767 - val_accuracy: 0.7781\n",
            "Epoch 158/200\n",
            "175/175 [==============================] - 3s 19ms/step - loss: 0.2559 - accuracy: 0.9196 - val_loss: 0.7273 - val_accuracy: 0.7795\n",
            "Epoch 159/200\n",
            "175/175 [==============================] - 3s 19ms/step - loss: 0.2478 - accuracy: 0.9227 - val_loss: 0.8651 - val_accuracy: 0.7423\n",
            "Epoch 160/200\n",
            "175/175 [==============================] - 3s 19ms/step - loss: 0.2498 - accuracy: 0.9162 - val_loss: 0.7667 - val_accuracy: 0.7616\n",
            "Epoch 161/200\n",
            "175/175 [==============================] - 3s 19ms/step - loss: 0.2263 - accuracy: 0.9279 - val_loss: 0.7650 - val_accuracy: 0.7774\n",
            "Epoch 162/200\n",
            "175/175 [==============================] - 3s 19ms/step - loss: 0.2288 - accuracy: 0.9256 - val_loss: 0.7817 - val_accuracy: 0.7795\n",
            "Epoch 163/200\n",
            "175/175 [==============================] - 3s 19ms/step - loss: 0.2330 - accuracy: 0.9256 - val_loss: 0.7464 - val_accuracy: 0.7802\n",
            "Epoch 164/200\n",
            "175/175 [==============================] - 3s 19ms/step - loss: 0.2499 - accuracy: 0.9207 - val_loss: 0.7450 - val_accuracy: 0.7788\n",
            "Epoch 165/200\n",
            "175/175 [==============================] - 3s 19ms/step - loss: 0.2370 - accuracy: 0.9196 - val_loss: 0.7081 - val_accuracy: 0.7981\n",
            "Epoch 166/200\n",
            "175/175 [==============================] - 3s 19ms/step - loss: 0.2365 - accuracy: 0.9266 - val_loss: 0.6953 - val_accuracy: 0.7931\n",
            "Epoch 167/200\n",
            "175/175 [==============================] - 3s 19ms/step - loss: 0.2470 - accuracy: 0.9229 - val_loss: 0.7358 - val_accuracy: 0.7788\n",
            "Epoch 168/200\n",
            "175/175 [==============================] - 3s 19ms/step - loss: 0.2379 - accuracy: 0.9241 - val_loss: 0.8515 - val_accuracy: 0.7466\n",
            "Epoch 169/200\n",
            "175/175 [==============================] - 3s 19ms/step - loss: 0.2366 - accuracy: 0.9252 - val_loss: 0.6899 - val_accuracy: 0.7895\n",
            "Epoch 170/200\n",
            "175/175 [==============================] - 3s 19ms/step - loss: 0.2446 - accuracy: 0.9186 - val_loss: 0.7252 - val_accuracy: 0.7774\n",
            "Epoch 171/200\n",
            "175/175 [==============================] - 3s 19ms/step - loss: 0.2494 - accuracy: 0.9252 - val_loss: 0.8613 - val_accuracy: 0.7466\n",
            "Epoch 172/200\n",
            "175/175 [==============================] - 3s 19ms/step - loss: 0.2368 - accuracy: 0.9236 - val_loss: 0.7377 - val_accuracy: 0.7838\n",
            "Epoch 173/200\n",
            "175/175 [==============================] - 3s 19ms/step - loss: 0.2233 - accuracy: 0.9290 - val_loss: 0.8467 - val_accuracy: 0.7566\n",
            "Epoch 174/200\n",
            "175/175 [==============================] - 3s 19ms/step - loss: 0.2304 - accuracy: 0.9284 - val_loss: 0.7422 - val_accuracy: 0.7781\n",
            "Epoch 175/200\n",
            "175/175 [==============================] - 3s 19ms/step - loss: 0.2493 - accuracy: 0.9189 - val_loss: 0.7623 - val_accuracy: 0.7817\n",
            "Epoch 176/200\n",
            "175/175 [==============================] - 3s 19ms/step - loss: 0.2272 - accuracy: 0.9298 - val_loss: 0.6992 - val_accuracy: 0.7903\n",
            "Epoch 177/200\n",
            "175/175 [==============================] - 3s 19ms/step - loss: 0.2264 - accuracy: 0.9307 - val_loss: 0.7306 - val_accuracy: 0.7895\n",
            "Epoch 178/200\n",
            "175/175 [==============================] - 3s 19ms/step - loss: 0.2296 - accuracy: 0.9290 - val_loss: 0.7044 - val_accuracy: 0.7895\n",
            "Epoch 179/200\n",
            "175/175 [==============================] - 3s 19ms/step - loss: 0.2314 - accuracy: 0.9261 - val_loss: 0.8042 - val_accuracy: 0.7788\n",
            "Epoch 180/200\n",
            "175/175 [==============================] - 3s 19ms/step - loss: 0.2164 - accuracy: 0.9311 - val_loss: 0.7297 - val_accuracy: 0.7881\n",
            "Epoch 181/200\n",
            "175/175 [==============================] - 3s 19ms/step - loss: 0.2288 - accuracy: 0.9290 - val_loss: 0.7430 - val_accuracy: 0.7895\n",
            "Epoch 182/200\n",
            "175/175 [==============================] - 3s 19ms/step - loss: 0.2275 - accuracy: 0.9291 - val_loss: 0.7088 - val_accuracy: 0.7781\n",
            "Epoch 183/200\n",
            "175/175 [==============================] - 3s 19ms/step - loss: 0.2175 - accuracy: 0.9340 - val_loss: 0.7794 - val_accuracy: 0.7652\n",
            "Epoch 184/200\n",
            "175/175 [==============================] - 3s 19ms/step - loss: 0.2382 - accuracy: 0.9247 - val_loss: 0.6675 - val_accuracy: 0.8017\n",
            "Epoch 185/200\n",
            "175/175 [==============================] - 3s 19ms/step - loss: 0.2414 - accuracy: 0.9256 - val_loss: 0.7078 - val_accuracy: 0.7989\n",
            "Epoch 186/200\n",
            "175/175 [==============================] - 3s 19ms/step - loss: 0.2208 - accuracy: 0.9281 - val_loss: 0.7244 - val_accuracy: 0.7824\n",
            "Epoch 187/200\n",
            "175/175 [==============================] - 3s 19ms/step - loss: 0.2126 - accuracy: 0.9306 - val_loss: 0.7281 - val_accuracy: 0.7874\n",
            "Epoch 188/200\n",
            "175/175 [==============================] - 3s 19ms/step - loss: 0.2167 - accuracy: 0.9327 - val_loss: 0.7623 - val_accuracy: 0.7709\n",
            "Epoch 189/200\n",
            "175/175 [==============================] - 3s 19ms/step - loss: 0.2048 - accuracy: 0.9388 - val_loss: 0.7759 - val_accuracy: 0.7788\n",
            "Epoch 190/200\n",
            "175/175 [==============================] - 3s 19ms/step - loss: 0.2250 - accuracy: 0.9298 - val_loss: 0.7403 - val_accuracy: 0.7724\n",
            "Epoch 191/200\n",
            "175/175 [==============================] - 3s 19ms/step - loss: 0.2330 - accuracy: 0.9290 - val_loss: 0.7157 - val_accuracy: 0.7831\n",
            "Epoch 192/200\n",
            "175/175 [==============================] - 3s 19ms/step - loss: 0.2098 - accuracy: 0.9304 - val_loss: 0.7395 - val_accuracy: 0.7638\n",
            "Epoch 193/200\n",
            "175/175 [==============================] - 3s 19ms/step - loss: 0.2203 - accuracy: 0.9279 - val_loss: 0.7641 - val_accuracy: 0.7674\n",
            "Epoch 194/200\n",
            "175/175 [==============================] - 3s 19ms/step - loss: 0.2139 - accuracy: 0.9316 - val_loss: 0.7298 - val_accuracy: 0.7767\n",
            "Epoch 195/200\n",
            "175/175 [==============================] - 3s 19ms/step - loss: 0.2022 - accuracy: 0.9379 - val_loss: 0.7596 - val_accuracy: 0.7774\n",
            "Epoch 196/200\n",
            "175/175 [==============================] - 3s 19ms/step - loss: 0.2426 - accuracy: 0.9229 - val_loss: 0.7486 - val_accuracy: 0.7731\n",
            "Epoch 197/200\n",
            "175/175 [==============================] - 3s 19ms/step - loss: 0.1994 - accuracy: 0.9368 - val_loss: 0.8325 - val_accuracy: 0.7659\n",
            "Epoch 198/200\n",
            "175/175 [==============================] - 3s 19ms/step - loss: 0.2006 - accuracy: 0.9388 - val_loss: 0.7645 - val_accuracy: 0.7781\n",
            "Epoch 199/200\n",
            "175/175 [==============================] - 3s 19ms/step - loss: 0.2096 - accuracy: 0.9359 - val_loss: 0.7649 - val_accuracy: 0.7745\n",
            "Epoch 200/200\n",
            "175/175 [==============================] - 3s 19ms/step - loss: 0.2001 - accuracy: 0.9370 - val_loss: 0.8211 - val_accuracy: 0.7566\n"
          ]
        }
      ]
    },
    {
      "cell_type": "code",
      "source": [
        "import matplotlib.pyplot as plt\n",
        "loss = history.history[\"loss\"]\n",
        "val_loss = history.history[\"val_loss\"]\n",
        "epochs = range(1, len(loss) + 1)\n",
        "plt.plot(epochs, loss, \"r\", label=\"Training loss\")\n",
        "plt.plot(epochs, val_loss, \"b\", label=\"Validation loss\")\n",
        "plt.title(\"Training and validation loss\")\n",
        "plt.xlabel(\"Epochs\")\n",
        "plt.ylabel(\"Loss\")\n",
        "plt.legend()\n",
        "plt.show()"
      ],
      "metadata": {
        "colab": {
          "base_uri": "https://localhost:8080/",
          "height": 472
        },
        "id": "Ao2NftWJFDZb",
        "outputId": "70e31acc-8b84-4e3b-c082-90553a4747e9"
      },
      "execution_count": null,
      "outputs": [
        {
          "output_type": "display_data",
          "data": {
            "text/plain": [
              "<Figure size 640x480 with 1 Axes>"
            ],
            "image/png": "[encoded data removed]"
          },
          "metadata": {}
        }
      ]
    },
    {
      "cell_type": "code",
      "source": [
        "plt.clf()\n",
        "acc = history.history[\"accuracy\"]\n",
        "val_acc = history.history[\"val_accuracy\"]\n",
        "plt.plot(epochs, acc, \"r\", label=\"Training accuracy\")\n",
        "plt.plot(epochs, val_acc, \"b\", label=\"Validation accuracy\")\n",
        "plt.title(\"Training and validation accuracy\")\n",
        "plt.xlabel(\"Epochs\")\n",
        "plt.ylabel(\"Accuracy\")\n",
        "plt.legend()\n",
        "plt.show()"
      ],
      "metadata": {
        "colab": {
          "base_uri": "https://localhost:8080/",
          "height": 472
        },
        "id": "rnv122ZUFDq6",
        "outputId": "7255cf91-51fb-4791-fc88-a85fe82f0356"
      },
      "execution_count": null,
      "outputs": [
        {
          "output_type": "display_data",
          "data": {
            "text/plain": [
              "<Figure size 640x480 with 1 Axes>"
            ],
            "image/png": "[encoded data removed]"
          },
          "metadata": {}
        }
      ]
    },
    {
      "cell_type": "code",
      "source": [
        "# Applying the standard 10-fold CV for pre-defined fols of Sound8k dataset"
      ],
      "metadata": {
        "id": "jFBHlTwFTAOR"
      },
      "execution_count": null,
      "outputs": []
    },
    {
      "cell_type": "code",
      "source": [
        "#Extracting the zipfile in google drive\n",
        "import zipfile\n",
        "from google.colab import drive\n",
        "\n",
        "drive.mount('/content/drive/')\n",
        "\n",
        "zip_ref = zipfile.ZipFile(\"/content/drive/My Drive/audio.zip\", 'r')\n",
        "zip_ref.extractall(\"/tmp\")\n",
        "zip_ref.close()\n"
      ],
      "metadata": {
        "colab": {
          "base_uri": "https://localhost:8080/"
        },
        "id": "OxzLRfKLTVP1",
        "outputId": "dda9c742-8074-48cf-8bdc-644a617c12c4"
      },
      "execution_count": null,
      "outputs": [
        {
          "output_type": "stream",
          "name": "stdout",
          "text": [
            "Mounted at /content/drive/\n"
          ]
        }
      ]
    },
    {
      "cell_type": "code",
      "source": [
        "import sys\n",
        "sys.path.insert(0, '/tmp/')\n",
        "sys.path.insert(0,'/content/drive/MyDrive/')\n",
        "from tensorflow import keras\n",
        "from tensorflow.keras import layers\n",
        "import numpy as np\n",
        "#from audio_classifier import AudioClassifier\n",
        "from tensorflow.keras.utils import to_categorical\n",
        "from tensorflow.keras.applications import DenseNet121\n",
        "import tensorflow\n",
        "print(\"Tensorflow-version:\", tensorflow.__version__)\n",
        "import numpy as np\n",
        "from sklearn.model_selection import train_test_split\n",
        "import pandas as pd\n",
        "from denseNet_audio_trans import denseNetAudioTransform\n",
        "#from audio_classifier import AudioClassifier\n",
        "from audio_utils import AudioUtil\n",
        "from numpy import savez_compressed\n",
        "from numpy import load"
      ],
      "metadata": {
        "colab": {
          "base_uri": "https://localhost:8080/"
        },
        "id": "5vC8pPikTYEw",
        "outputId": "d275b0e8-f009-4b38-fbab-523f7f1cfb7a"
      },
      "execution_count": null,
      "outputs": [
        {
          "output_type": "stream",
          "name": "stdout",
          "text": [
            "Tensorflow-version: 2.12.0\n"
          ]
        }
      ]
    },
    {
      "cell_type": "code",
      "source": [
        "#read path csv\n",
        "df=pd.read_csv(\"/tmp/relativepaths.csv\")\n",
        "X=df['relative_path']\n",
        "y=df[\"classID\"]"
      ],
      "metadata": {
        "id": "B-7eMC1RTYS-"
      },
      "execution_count": null,
      "outputs": []
    },
    {
      "cell_type": "code",
      "source": [
        "atrans=denseNetAudioTransform(df=df, data_path=\"/tmp/audio/\")"
      ],
      "metadata": {
        "id": "sWTCjSbOvSZj"
      },
      "execution_count": null,
      "outputs": []
    },
    {
      "cell_type": "code",
      "source": [
        "def audio_transform(idx):\n",
        "  idx=idx.numpy()\n",
        "  return atrans[idx]\n",
        "\n",
        "def sgram_reshape(sgram, label):\n",
        "  sgram=sgram.numpy()\n",
        "  sgram_new=np.moveaxis(sgram,0,-1)\n",
        "  return sgram_new, label\n",
        "\n",
        "def _fixup_shape(x, y):\n",
        "    x.set_shape([None, 128, 400, 3]) # n, h, w, c\n",
        "    y.set_shape([None, 10]) # n, nb_classes\n",
        "    return x, y"
      ],
      "metadata": {
        "id": "yzgMAjGcviju"
      },
      "execution_count": null,
      "outputs": []
    },
    {
      "cell_type": "code",
      "source": [
        "#folds dict that has keys with fold names and list(index) as values\n",
        "folds={}\n",
        "for path, idx in zip(X,X.index):\n",
        "    if path.split(\"/\")[1] in folds:\n",
        "        folds[path.split(\"/\")[1]].append(idx)\n",
        "    else:\n",
        "        folds[path.split(\"/\")[1]]=[idx]\n",
        "folds.keys()"
      ],
      "metadata": {
        "colab": {
          "base_uri": "https://localhost:8080/"
        },
        "id": "s6TYmmzLo9GA",
        "outputId": "1c3e2907-0e83-4196-ecd2-7ae6b4d2041b"
      },
      "execution_count": null,
      "outputs": [
        {
          "output_type": "execute_result",
          "data": {
            "text/plain": [
              "dict_keys(['fold5', 'fold10', 'fold2', 'fold6', 'fold1', 'fold9', 'fold7', 'fold4', 'fold3', 'fold8'])"
            ]
          },
          "metadata": {},
          "execution_count": 6
        }
      ]
    },
    {
      "cell_type": "code",
      "source": [
        "acc_per_fold = []\n",
        "loss_per_fold = []\n",
        "for fold in folds.keys():\n",
        "  #creating train and val index sets\n",
        "  val_idx=folds[fold]\n",
        "  train_folds=[i for i in list(folds.keys()) if i!=fold]\n",
        "  train_idx=[]\n",
        "  for train_fold in train_folds:\n",
        "    train_idx=train_idx+folds[train_fold]\n",
        "  #preprocessing------------------------------------------------------------------------------------------------------\n",
        "  #train dataset\n",
        "  train_dataset=tensorflow.data.Dataset.from_tensor_slices((train_idx))\n",
        "  train_dataset=train_dataset.map(lambda i: tensorflow.py_function(func=audio_transform,\n",
        "                                                                  inp=[i],\n",
        "                                                                  Tout=[tensorflow.float64, tensorflow.float64]),\n",
        "                                  num_parallel_calls=tensorflow.data.AUTOTUNE)\n",
        "  train_dataset=train_dataset.map(lambda sgram, label: tensorflow.py_function(func=sgram_reshape,\n",
        "                                                                  inp=[sgram, label],\n",
        "                                                                  Tout=[tensorflow.float64, tensorflow.float64]),\n",
        "                                  num_parallel_calls=tensorflow.data.AUTOTUNE)\n",
        "  train_dataset=train_dataset.cache()\n",
        "  train_dataset=train_dataset.shuffle(len(train_dataset))\n",
        "  train_dataset=train_dataset.batch(32)\n",
        "  train_dataset=train_dataset.map(_fixup_shape)\n",
        "  train_dataset=train_dataset.prefetch(tensorflow.data.AUTOTUNE)\n",
        "  #val dataset\n",
        "  val_dataset=tensorflow.data.Dataset.from_tensor_slices((val_idx))\n",
        "  val_dataset=val_dataset.map(lambda i: tensorflow.py_function(func=audio_transform,\n",
        "                                                                  inp=[i],\n",
        "                                                                  Tout=[tensorflow.float64, tensorflow.float64]),\n",
        "                                  num_parallel_calls=tensorflow.data.AUTOTUNE)\n",
        "  val_dataset=val_dataset.map(lambda sgram, label: tensorflow.py_function(func=sgram_reshape,\n",
        "                                                                  inp=[sgram, label],\n",
        "                                                                  Tout=[tensorflow.float64, tensorflow.float64]),\n",
        "                                  num_parallel_calls=tensorflow.data.AUTOTUNE)\n",
        "  val_dataset=val_dataset.cache()\n",
        "  val_dataset=val_dataset.batch(32)\n",
        "  val_dataset=val_dataset.map(_fixup_shape)\n",
        "  val_dataset=val_dataset.prefetch(tensorflow.data.AUTOTUNE)\n",
        "  #------------------------------------------------------------------------------------------------------------------\n",
        "  #model architecture------------------------------------------------------------------------------------------------\n",
        "  inputs=keras.Input(shape=(128,400,3))\n",
        "  x = layers.Conv2D(filters=8, kernel_size=(3,3), activation=\"relu\")(inputs)\n",
        "  x = layers.MaxPooling2D(pool_size=(2,2))(x)\n",
        "  x = layers.Dropout(rate=0.3)(x)\n",
        "  x = layers.Conv2D(filters=16, kernel_size=(3,3), activation=\"relu\")(x)\n",
        "  x = layers.MaxPooling2D(pool_size=(2,2))(x)\n",
        "  x = layers.Dropout(rate=0.3)(x)\n",
        "  x = layers.Conv2D(filters=32, kernel_size=(3,3), activation=\"relu\")(x)\n",
        "  x = layers.MaxPooling2D(pool_size=(2,2))(x)\n",
        "  x = layers.Dropout(rate=0.3)(x)\n",
        "  x = layers.Conv2D(filters=64, kernel_size=(3,3), activation=\"relu\")(x)\n",
        "  x = layers.MaxPooling2D(pool_size=(2,2))(x)\n",
        "  x = layers.Dropout(rate=0.3)(x)\n",
        "  x = layers.Flatten()(x)\n",
        "  x = layers.Dense(64, activation=\"relu\")(x)\n",
        "  x = layers.Dropout(rate=0.3)(x)\n",
        "  x = layers.Dense(32, activation=\"relu\")(x)\n",
        "  x=layers.Dense(16, activation=\"relu\")(x)\n",
        "  outputs = layers.Dense(10, activation=\"softmax\")(x)\n",
        "  model = keras.Model(inputs=inputs, outputs=outputs)\n",
        "  #-----------------------------------------------------------------------------------------------------------------\n",
        "  #compile and fit\n",
        "  model.compile(optimizer='adam',\n",
        "              loss=\"categorical_crossentropy\",\n",
        "              metrics=[\"accuracy\"])\n",
        "  history=model.fit(train_dataset, epochs=200, batch_size=32, verbose=0)\n",
        "  #evaluate\n",
        "  # Generate generalization metrics\n",
        "  scores = model.evaluate(val_dataset, verbose=0)\n",
        "  print(f'Score for {fold}: {model.metrics_names[0]} of {scores[0]}; {model.metrics_names[1]} of {scores[1]*100}%')\n",
        "  acc_per_fold.append(scores[1] * 100)\n",
        "  loss_per_fold.append(scores[0])\n",
        "\n",
        "#Provide average scores\n",
        "print('------------------------------------------------------------------------')\n",
        "print('Score per fold')\n",
        "for i in range(0, len(acc_per_fold)):\n",
        "  print('------------------------------------------------------------------------')\n",
        "  print(f'> Fold {i+1} - Loss: {loss_per_fold[i]} - Accuracy: {acc_per_fold[i]}%')\n",
        "print('------------------------------------------------------------------------')\n",
        "print('Average scores for all folds:')\n",
        "print(f'> Accuracy: {np.mean(acc_per_fold)} (+- {np.std(acc_per_fold)})')\n",
        "print(f'> Loss: {np.mean(loss_per_fold)}')\n",
        "print('------------------------------------------------------------------------')\n"
      ],
      "metadata": {
        "colab": {
          "base_uri": "https://localhost:8080/"
        },
        "id": "VM8VsggupAx_",
        "outputId": "5ce16fff-b793-47cb-fbf9-0f6daed2193f"
      },
      "execution_count": null,
      "outputs": [
        {
          "output_type": "stream",
          "name": "stdout",
          "text": [
            "Score for fold5: loss of 1.4895256757736206; accuracy of 61.538463830947876%\n",
            "Score for fold10: loss of 1.070419430732727; accuracy of 71.9235360622406%\n",
            "Score for fold2: loss of 1.7419747114181519; accuracy of 60.2477490901947%\n",
            "Score for fold6: loss of 1.4716213941574097; accuracy of 67.5577163696289%\n",
            "Score for fold1: loss of 1.5924386978149414; accuracy of 61.741119623184204%\n",
            "Score for fold9: loss of 1.445380449295044; accuracy of 66.78921580314636%\n",
            "Score for fold7: loss of 1.792728304862976; accuracy of 63.24582099914551%\n",
            "Score for fold4: loss of 1.524362564086914; accuracy of 61.91919445991516%\n",
            "Score for fold3: loss of 1.9896132946014404; accuracy of 53.72973084449768%\n",
            "Score for fold8: loss of 2.257711887359619; accuracy of 56.32754564285278%\n",
            "------------------------------------------------------------------------\n",
            "Score per fold\n",
            "------------------------------------------------------------------------\n",
            "> Fold 1 - Loss: 1.4895256757736206 - Accuracy: 61.538463830947876%\n",
            "------------------------------------------------------------------------\n",
            "> Fold 2 - Loss: 1.070419430732727 - Accuracy: 71.9235360622406%\n",
            "------------------------------------------------------------------------\n",
            "> Fold 3 - Loss: 1.7419747114181519 - Accuracy: 60.2477490901947%\n",
            "------------------------------------------------------------------------\n",
            "> Fold 4 - Loss: 1.4716213941574097 - Accuracy: 67.5577163696289%\n",
            "------------------------------------------------------------------------\n",
            "> Fold 5 - Loss: 1.5924386978149414 - Accuracy: 61.741119623184204%\n",
            "------------------------------------------------------------------------\n",
            "> Fold 6 - Loss: 1.445380449295044 - Accuracy: 66.78921580314636%\n",
            "------------------------------------------------------------------------\n",
            "> Fold 7 - Loss: 1.792728304862976 - Accuracy: 63.24582099914551%\n",
            "------------------------------------------------------------------------\n",
            "> Fold 8 - Loss: 1.524362564086914 - Accuracy: 61.91919445991516%\n",
            "------------------------------------------------------------------------\n",
            "> Fold 9 - Loss: 1.9896132946014404 - Accuracy: 53.72973084449768%\n",
            "------------------------------------------------------------------------\n",
            "> Fold 10 - Loss: 2.257711887359619 - Accuracy: 56.32754564285278%\n",
            "------------------------------------------------------------------------\n",
            "Average scores for all folds:\n",
            "> Accuracy: 62.50200927257538 (+- 5.052369166111775)\n",
            "> Loss: 1.6375776410102845\n",
            "------------------------------------------------------------------------\n"
          ]
        }
      ]
    }
  ]
}